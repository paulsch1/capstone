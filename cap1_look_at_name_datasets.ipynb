{
 "cells": [
  {
   "cell_type": "code",
   "execution_count": 26,
   "id": "343395bb",
   "metadata": {},
   "outputs": [],
   "source": [
    "import numpy as np\n",
    "import pandas as pd\n",
    "import glob\n",
    "import matplotlib.pyplot as plt"
   ]
  },
  {
   "cell_type": "markdown",
   "id": "6bad0bdc",
   "metadata": {},
   "source": [
    "### national data"
   ]
  },
  {
   "cell_type": "code",
   "execution_count": 3,
   "id": "f6eb2706",
   "metadata": {},
   "outputs": [
    {
     "data": {
      "text/html": [
       "<div>\n",
       "<style scoped>\n",
       "    .dataframe tbody tr th:only-of-type {\n",
       "        vertical-align: middle;\n",
       "    }\n",
       "\n",
       "    .dataframe tbody tr th {\n",
       "        vertical-align: top;\n",
       "    }\n",
       "\n",
       "    .dataframe thead th {\n",
       "        text-align: right;\n",
       "    }\n",
       "</style>\n",
       "<table border=\"1\" class=\"dataframe\">\n",
       "  <thead>\n",
       "    <tr style=\"text-align: right;\">\n",
       "      <th></th>\n",
       "      <th>name</th>\n",
       "      <th>sex</th>\n",
       "      <th>count</th>\n",
       "      <th>year</th>\n",
       "    </tr>\n",
       "  </thead>\n",
       "  <tbody>\n",
       "    <tr>\n",
       "      <th>0</th>\n",
       "      <td>Emily</td>\n",
       "      <td>F</td>\n",
       "      <td>25957</td>\n",
       "      <td>2000</td>\n",
       "    </tr>\n",
       "    <tr>\n",
       "      <th>1</th>\n",
       "      <td>Hannah</td>\n",
       "      <td>F</td>\n",
       "      <td>23085</td>\n",
       "      <td>2000</td>\n",
       "    </tr>\n",
       "    <tr>\n",
       "      <th>2</th>\n",
       "      <td>Madison</td>\n",
       "      <td>F</td>\n",
       "      <td>19968</td>\n",
       "      <td>2000</td>\n",
       "    </tr>\n",
       "    <tr>\n",
       "      <th>3</th>\n",
       "      <td>Ashley</td>\n",
       "      <td>F</td>\n",
       "      <td>17998</td>\n",
       "      <td>2000</td>\n",
       "    </tr>\n",
       "    <tr>\n",
       "      <th>4</th>\n",
       "      <td>Sarah</td>\n",
       "      <td>F</td>\n",
       "      <td>17712</td>\n",
       "      <td>2000</td>\n",
       "    </tr>\n",
       "  </tbody>\n",
       "</table>\n",
       "</div>"
      ],
      "text/plain": [
       "      name sex  count  year\n",
       "0    Emily   F  25957  2000\n",
       "1   Hannah   F  23085  2000\n",
       "2  Madison   F  19968  2000\n",
       "3   Ashley   F  17998  2000\n",
       "4    Sarah   F  17712  2000"
      ]
     },
     "execution_count": 3,
     "metadata": {},
     "output_type": "execute_result"
    }
   ],
   "source": [
    "file_paths = glob.glob('names/yob*.txt')\n",
    "\n",
    "dfs = []\n",
    "\n",
    "for file_path in file_paths:\n",
    "    temp_df = pd.read_csv(file_path, names=['name', 'sex', 'count'])\n",
    "    year = int(file_path.split('yob')[1].split('.txt')[0])\n",
    "    temp_df['year'] = year\n",
    "    dfs.append(temp_df)\n",
    "\n",
    "dfn = pd.concat(dfs, ignore_index=True)\n",
    "\n",
    "dfn['year'] = dfn['year'].astype(int)\n",
    "\n",
    "dfn.head()"
   ]
  },
  {
   "cell_type": "markdown",
   "id": "616edc9b",
   "metadata": {},
   "source": [
    "### state data"
   ]
  },
  {
   "cell_type": "code",
   "execution_count": 4,
   "id": "8cfee883",
   "metadata": {},
   "outputs": [
    {
     "data": {
      "text/html": [
       "<div>\n",
       "<style scoped>\n",
       "    .dataframe tbody tr th:only-of-type {\n",
       "        vertical-align: middle;\n",
       "    }\n",
       "\n",
       "    .dataframe tbody tr th {\n",
       "        vertical-align: top;\n",
       "    }\n",
       "\n",
       "    .dataframe thead th {\n",
       "        text-align: right;\n",
       "    }\n",
       "</style>\n",
       "<table border=\"1\" class=\"dataframe\">\n",
       "  <thead>\n",
       "    <tr style=\"text-align: right;\">\n",
       "      <th></th>\n",
       "      <th>state</th>\n",
       "      <th>sex</th>\n",
       "      <th>year</th>\n",
       "      <th>name</th>\n",
       "      <th>count</th>\n",
       "    </tr>\n",
       "  </thead>\n",
       "  <tbody>\n",
       "    <tr>\n",
       "      <th>0</th>\n",
       "      <td>ID</td>\n",
       "      <td>F</td>\n",
       "      <td>1910</td>\n",
       "      <td>Mary</td>\n",
       "      <td>53</td>\n",
       "    </tr>\n",
       "    <tr>\n",
       "      <th>1</th>\n",
       "      <td>ID</td>\n",
       "      <td>F</td>\n",
       "      <td>1910</td>\n",
       "      <td>Dorothy</td>\n",
       "      <td>31</td>\n",
       "    </tr>\n",
       "    <tr>\n",
       "      <th>2</th>\n",
       "      <td>ID</td>\n",
       "      <td>F</td>\n",
       "      <td>1910</td>\n",
       "      <td>Helen</td>\n",
       "      <td>30</td>\n",
       "    </tr>\n",
       "    <tr>\n",
       "      <th>3</th>\n",
       "      <td>ID</td>\n",
       "      <td>F</td>\n",
       "      <td>1910</td>\n",
       "      <td>Margaret</td>\n",
       "      <td>24</td>\n",
       "    </tr>\n",
       "    <tr>\n",
       "      <th>4</th>\n",
       "      <td>ID</td>\n",
       "      <td>F</td>\n",
       "      <td>1910</td>\n",
       "      <td>Ruth</td>\n",
       "      <td>24</td>\n",
       "    </tr>\n",
       "  </tbody>\n",
       "</table>\n",
       "</div>"
      ],
      "text/plain": [
       "  state sex  year      name  count\n",
       "0    ID   F  1910      Mary     53\n",
       "1    ID   F  1910   Dorothy     31\n",
       "2    ID   F  1910     Helen     30\n",
       "3    ID   F  1910  Margaret     24\n",
       "4    ID   F  1910      Ruth     24"
      ]
     },
     "execution_count": 4,
     "metadata": {},
     "output_type": "execute_result"
    }
   ],
   "source": [
    "file_paths = glob.glob('namesbystate/STATE.*.TXT')\n",
    "\n",
    "dflist = []\n",
    "\n",
    "for file_path in file_paths:\n",
    "    temp_df = pd.read_csv(file_path, names=['state', 'sex', 'year', 'name','count'])\n",
    "    dflist.append(temp_df)\n",
    "\n",
    "dfs = pd.concat(dflist, ignore_index=True)\n",
    "dfs.head()"
   ]
  },
  {
   "cell_type": "markdown",
   "id": "1824d7a3",
   "metadata": {},
   "source": [
    "### check values - state data"
   ]
  },
  {
   "cell_type": "code",
   "execution_count": 10,
   "id": "43ba37ab",
   "metadata": {},
   "outputs": [
    {
     "data": {
      "text/plain": [
       "51"
      ]
     },
     "execution_count": 10,
     "metadata": {},
     "output_type": "execute_result"
    }
   ],
   "source": [
    "len(dfs['state'].unique())"
   ]
  },
  {
   "cell_type": "code",
   "execution_count": 11,
   "id": "36dd2884",
   "metadata": {},
   "outputs": [
    {
     "data": {
      "text/plain": [
       "array(['F', 'M'], dtype=object)"
      ]
     },
     "execution_count": 11,
     "metadata": {},
     "output_type": "execute_result"
    }
   ],
   "source": [
    "dfs['sex'].unique()"
   ]
  },
  {
   "cell_type": "code",
   "execution_count": 15,
   "id": "679eec21",
   "metadata": {},
   "outputs": [
    {
     "data": {
      "text/plain": [
       "array([1910, 1911, 1912, 1913, 1914, 1915, 1916, 1917, 1918, 1919, 1920,\n",
       "       1921, 1922, 1923, 1924, 1925, 1926, 1927, 1928, 1929, 1930, 1931,\n",
       "       1932, 1933, 1934, 1935, 1936, 1937, 1938, 1939, 1940, 1941, 1942,\n",
       "       1943, 1944, 1945, 1946, 1947, 1948, 1949, 1950, 1951, 1952, 1953,\n",
       "       1954, 1955, 1956, 1957, 1958, 1959, 1960, 1961, 1962, 1963, 1964,\n",
       "       1965, 1966, 1967, 1968, 1969, 1970, 1971, 1972, 1973, 1974, 1975,\n",
       "       1976, 1977, 1978, 1979, 1980, 1981, 1982, 1983, 1984, 1985, 1986,\n",
       "       1987, 1988, 1989, 1990, 1991, 1992, 1993, 1994, 1995, 1996, 1997,\n",
       "       1998, 1999, 2000, 2001, 2002, 2003, 2004, 2005, 2006, 2007, 2008,\n",
       "       2009, 2010, 2011, 2012, 2013, 2014, 2015, 2016, 2017, 2018, 2019,\n",
       "       2020, 2021, 2022])"
      ]
     },
     "execution_count": 15,
     "metadata": {},
     "output_type": "execute_result"
    }
   ],
   "source": [
    "np.sort(dfs['year'].unique())"
   ]
  },
  {
   "cell_type": "code",
   "execution_count": 23,
   "id": "1d32e091",
   "metadata": {},
   "outputs": [
    {
     "data": {
      "text/plain": [
       "32722"
      ]
     },
     "execution_count": 23,
     "metadata": {},
     "output_type": "execute_result"
    }
   ],
   "source": [
    "len(dfs['name'].unique())"
   ]
  },
  {
   "cell_type": "markdown",
   "id": "37c5e93d",
   "metadata": {},
   "source": [
    "### check values - national data"
   ]
  },
  {
   "cell_type": "code",
   "execution_count": 27,
   "id": "31328430",
   "metadata": {},
   "outputs": [
    {
     "data": {
      "text/plain": [
       "array(['F', 'M'], dtype=object)"
      ]
     },
     "execution_count": 27,
     "metadata": {},
     "output_type": "execute_result"
    }
   ],
   "source": [
    "dfn['sex'].unique()"
   ]
  },
  {
   "cell_type": "code",
   "execution_count": 16,
   "id": "cabca01e",
   "metadata": {},
   "outputs": [
    {
     "data": {
      "text/plain": [
       "array([1880, 1881, 1882, 1883, 1884, 1885, 1886, 1887, 1888, 1889, 1890,\n",
       "       1891, 1892, 1893, 1894, 1895, 1896, 1897, 1898, 1899, 1900, 1901,\n",
       "       1902, 1903, 1904, 1905, 1906, 1907, 1908, 1909, 1910, 1911, 1912,\n",
       "       1913, 1914, 1915, 1916, 1917, 1918, 1919, 1920, 1921, 1922, 1923,\n",
       "       1924, 1925, 1926, 1927, 1928, 1929, 1930, 1931, 1932, 1933, 1934,\n",
       "       1935, 1936, 1937, 1938, 1939, 1940, 1941, 1942, 1943, 1944, 1945,\n",
       "       1946, 1947, 1948, 1949, 1950, 1951, 1952, 1953, 1954, 1955, 1956,\n",
       "       1957, 1958, 1959, 1960, 1961, 1962, 1963, 1964, 1965, 1966, 1967,\n",
       "       1968, 1969, 1970, 1971, 1972, 1973, 1974, 1975, 1976, 1977, 1978,\n",
       "       1979, 1980, 1981, 1982, 1983, 1984, 1985, 1986, 1987, 1988, 1989,\n",
       "       1990, 1991, 1992, 1993, 1994, 1995, 1996, 1997, 1998, 1999, 2000,\n",
       "       2001, 2002, 2003, 2004, 2005, 2006, 2007, 2008, 2009, 2010, 2011,\n",
       "       2012, 2013, 2014, 2015, 2016, 2017, 2018, 2019, 2020, 2021, 2022])"
      ]
     },
     "execution_count": 16,
     "metadata": {},
     "output_type": "execute_result"
    }
   ],
   "source": [
    "np.sort(dfn['year'].unique())"
   ]
  },
  {
   "cell_type": "code",
   "execution_count": 26,
   "id": "6aaf3674",
   "metadata": {},
   "outputs": [
    {
     "data": {
      "text/plain": [
       "102449"
      ]
     },
     "execution_count": 26,
     "metadata": {},
     "output_type": "execute_result"
    }
   ],
   "source": [
    "len(dfn['name'].unique())"
   ]
  },
  {
   "cell_type": "markdown",
   "id": "34fc0336",
   "metadata": {},
   "source": [
    "### compare counts"
   ]
  },
  {
   "cell_type": "code",
   "execution_count": 17,
   "id": "a0d6f3e4",
   "metadata": {},
   "outputs": [
    {
     "data": {
      "text/plain": [
       "count    365296191\n",
       "dtype: int64"
      ]
     },
     "execution_count": 17,
     "metadata": {},
     "output_type": "execute_result"
    }
   ],
   "source": [
    "dfn[['count']].sum()"
   ]
  },
  {
   "cell_type": "code",
   "execution_count": 18,
   "id": "1a0b0953",
   "metadata": {},
   "outputs": [
    {
     "data": {
      "text/plain": [
       "count    322578957\n",
       "dtype: int64"
      ]
     },
     "execution_count": 18,
     "metadata": {},
     "output_type": "execute_result"
    }
   ],
   "source": [
    "dfs[['count']].sum()"
   ]
  },
  {
   "cell_type": "code",
   "execution_count": 19,
   "id": "6c4e322e",
   "metadata": {
    "scrolled": false
   },
   "outputs": [
    {
     "name": "stdout",
     "output_type": "stream",
     "text": [
      "state counts / national counts:  count    0.883061\n",
      "dtype: float64\n"
     ]
    }
   ],
   "source": [
    "print('state counts / national counts: ', dfs[['count']].sum() / dfn[['count']].sum())"
   ]
  },
  {
   "cell_type": "code",
   "execution_count": 8,
   "id": "91a7dc11",
   "metadata": {},
   "outputs": [
    {
     "name": "stdout",
     "output_type": "stream",
     "text": [
      "for just 2022:  0.8351299385822762\n"
     ]
    }
   ],
   "source": [
    "national2022 = dfn[dfn['year']==2022]['count'].sum()\n",
    "state2022 = dfs[dfs['year']==2022]['count'].sum()\n",
    "print('ration of state records to national, for just 2022: ',state2022 / national2022)"
   ]
  },
  {
   "cell_type": "code",
   "execution_count": 9,
   "id": "d65300df",
   "metadata": {},
   "outputs": [
    {
     "name": "stdout",
     "output_type": "stream",
     "text": [
      "for just 1950:  0.9505686469502233\n"
     ]
    }
   ],
   "source": [
    "national1950 = dfn[dfn['year']==1950]['count'].sum()\n",
    "state1950 = dfs[dfs['year']==1950]['count'].sum()\n",
    "print('ration of state records to national, for just 1950: ',state1950 / national1950)"
   ]
  },
  {
   "cell_type": "markdown",
   "id": "c063482f",
   "metadata": {},
   "source": [
    "## plots"
   ]
  },
  {
   "cell_type": "code",
   "execution_count": 30,
   "id": "bf8d2b73",
   "metadata": {},
   "outputs": [
    {
     "data": {
      "image/png": "[encoded data removed]",
      "text/plain": [
       "<Figure size 640x480 with 1 Axes>"
      ]
     },
     "metadata": {},
     "output_type": "display_data"
    }
   ],
   "source": [
    "z = dfn[['year', 'count']].groupby(['year']).sum().reset_index()\n",
    "\n",
    "plt.plot(z['year'], z['count'])\n",
    "plt.ylabel('count')\n",
    "plt.title('births per year')\n",
    "plt.show()"
   ]
  },
  {
   "cell_type": "code",
   "execution_count": 36,
   "id": "51c4dae3",
   "metadata": {},
   "outputs": [
    {
     "data": {
      "image/png": "[encoded data removed]",
      "text/plain": [
       "<Figure size 640x480 with 1 Axes>"
      ]
     },
     "metadata": {},
     "output_type": "display_data"
    }
   ],
   "source": [
    "z = dfn[['sex', 'name', 'year']].groupby(['sex', 'name', 'year']).head()\n",
    "z = z.groupby(['year']).count().reset_index()\n",
    "plt.plot(z['year'], z['name'])\n",
    "plt.ylabel('count')\n",
    "plt.title('unique names per year')\n",
    "plt.show()\n"
   ]
  },
  {
   "cell_type": "markdown",
   "id": "8e1618db",
   "metadata": {},
   "source": [
    "## Karens per year"
   ]
  },
  {
   "cell_type": "code",
   "execution_count": 61,
   "id": "36dba4b4",
   "metadata": {},
   "outputs": [
    {
     "data": {
      "image/png": "[encoded data removed]",
      "text/plain": [
       "<Figure size 640x480 with 1 Axes>"
      ]
     },
     "metadata": {},
     "output_type": "display_data"
    }
   ],
   "source": [
    "name, sex = 'Karen', 'F'\n",
    "\n",
    "z = dfn.loc[(dfn['name']==name) & (dfn['sex']==sex)].sort_values(['year'])\n",
    "plt.plot(z['year'], z['count'])\n",
    "plt.ylabel('count')\n",
    "plt.title(name + 's (' + sex + ') per year')\n",
    "plt.show()\n"
   ]
  },
  {
   "cell_type": "markdown",
   "id": "e4b6368e",
   "metadata": {},
   "source": [
    "## plot number of unique names versus number of births"
   ]
  },
  {
   "cell_type": "code",
   "execution_count": null,
   "id": "c77c789d",
   "metadata": {},
   "outputs": [],
   "source": []
  },
  {
   "cell_type": "markdown",
   "id": "acff8c7d",
   "metadata": {},
   "source": [
    "## what names are both M and F? what names have shifted one way or the other?"
   ]
  },
  {
   "cell_type": "code",
   "execution_count": null,
   "id": "603a5255",
   "metadata": {},
   "outputs": [],
   "source": []
  },
  {
   "cell_type": "markdown",
   "id": "25a7d9a0",
   "metadata": {},
   "source": [
    "## has the typical length of names changed over time? (or the distribution?)"
   ]
  },
  {
   "cell_type": "code",
   "execution_count": null,
   "id": "03b60abe",
   "metadata": {},
   "outputs": [],
   "source": []
  },
  {
   "cell_type": "code",
   "execution_count": null,
   "id": "a700e36c",
   "metadata": {},
   "outputs": [],
   "source": []
  }
 ],
 "metadata": {
  "kernelspec": {
   "display_name": "Python 3 (ipykernel)",
   "language": "python",
   "name": "python3"
  },
  "language_info": {
   "codemirror_mode": {
    "name": "ipython",
    "version": 3
   },
   "file_extension": ".py",
   "mimetype": "text/x-python",
   "name": "python",
   "nbconvert_exporter": "python",
   "pygments_lexer": "ipython3",
   "version": "3.10.9"
  }
 },
 "nbformat": 4,
 "nbformat_minor": 5
}
