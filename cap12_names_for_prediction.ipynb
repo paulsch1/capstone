{
 "cells": [
  {
   "cell_type": "markdown",
   "id": "eabe6523",
   "metadata": {},
   "source": [
    "# Introduction\n",
    "In this notebook, we perform data cleaning operations on several dataframes to extract character and actor first names from a dataset consisting of movies, cast information, and character details. The primary objective is to prepare the data for additional analysis."
   ]
  },
  {
   "cell_type": "markdown",
   "id": "3a33ae20",
   "metadata": {},
   "source": [
    "## Import Libraries"
   ]
  },
  {
   "cell_type": "code",
   "execution_count": 77,
   "id": "b7021491",
   "metadata": {},
   "outputs": [],
   "source": [
    "import numpy as np\n",
    "import pandas as pd\n",
    "from ast import literal_eval\n",
    "import ast\n",
    "\n",
    "import warnings\n",
    "warnings.filterwarnings('ignore')"
   ]
  },
  {
   "cell_type": "markdown",
   "id": "25e1c060",
   "metadata": {},
   "source": [
    "## Data Loading\n",
    "We start by loading the necessary datasets into pandas dataframes:"
   ]
  },
  {
   "cell_type": "code",
   "execution_count": 78,
   "id": "7b45993a",
   "metadata": {},
   "outputs": [],
   "source": [
    "# This datasets were obtained from Kaggle: https://www.kaggle.com/datasets/rounakbanik/the-movies-dataset/data?select=credits.csv\n",
    "# The datasets contains metadata for all 45,000 movies listed in the Full MovieLens Dataset. \n",
    "# The datasets consists of movies released on or before July 2017.\n",
    "credits_df = pd.read_csv(\"Data/credits.csv\")\n",
    "movies_df = pd.read_csv(\"Data/movies_metadata.csv\")"
   ]
  },
  {
   "cell_type": "markdown",
   "id": "41867d67",
   "metadata": {},
   "source": [
    "### Define Function to Extract Character, Name, and Gender\n",
    "\n",
    "We define a function extract_character_name_gender() to extract character, name, and gender values from valid entries."
   ]
  },
  {
   "cell_type": "code",
   "execution_count": 79,
   "id": "10c1c7cd",
   "metadata": {},
   "outputs": [],
   "source": [
    "# First, convert the string representation of the list in the 'cast' column \n",
    "# to an actual list of dictionaries using ast.literal_eval\n",
    "credits_df['cast'] = credits_df['cast'].apply(ast.literal_eval)\n",
    "\n",
    "# Define a function to extract character, name, and gender values from valid entries\n",
    "def extract_character_name_gender(row):\n",
    "    characters = []\n",
    "    names = []\n",
    "    genders = []\n",
    "    if isinstance(row, list):  # Check if the entry is a list of dictionaries\n",
    "        for entry in row:\n",
    "            if 'character' in entry and 'name' in entry and 'gender' in entry:  # Check if the required keys are present\n",
    "                characters.append(entry['character'])\n",
    "                names.append(entry['name'])\n",
    "                genders.append(entry['gender'])\n",
    "    return characters, names, genders"
   ]
  },
  {
   "cell_type": "markdown",
   "id": "89d7400f",
   "metadata": {},
   "source": [
    "### Apply Function to Extract Values\n",
    "\n",
    "We apply the extract_character_name_gender() function to the 'cast' column to extract character, name, and gender values."
   ]
  },
  {
   "cell_type": "code",
   "execution_count": 80,
   "id": "cc9c5f71",
   "metadata": {},
   "outputs": [],
   "source": [
    "# Apply the function to the 'cast' column to extract character, name, and gender values\n",
    "extracted_data = credits_df['cast'].apply(extract_character_name_gender)"
   ]
  },
  {
   "cell_type": "markdown",
   "id": "28d568bf",
   "metadata": {},
   "source": [
    "### Create New Columns for Extracted Data\n",
    "We create new columns in the DataFrame for the extracted data."
   ]
  },
  {
   "cell_type": "code",
   "execution_count": null,
   "id": "9494e36c",
   "metadata": {},
   "outputs": [],
   "source": [
    "# Create new columns in the DataFrame for extracted data\n",
    "extracted_df = pd.DataFrame(extracted_data.tolist(), columns=['characters', 'names', 'genders'], index=credits_df.index)\n",
    "credits_df = pd.concat([credits_df, extracted_df], axis=1)"
   ]
  },
  {
   "cell_type": "markdown",
   "id": "86bbed6b",
   "metadata": {},
   "source": [
    "### Verify the Result\n",
    "We verify that the 'characters', 'names', and 'genders' columns now contain the extracted values only from valid entries."
   ]
  },
  {
   "cell_type": "code",
   "execution_count": null,
   "id": "e4a8b086",
   "metadata": {},
   "outputs": [],
   "source": [
    "# Now you have 'characters', 'names', and 'genders' columns containing the extracted values only from valid entries\n",
    "print(credits_df[['characters', 'names', 'genders']])"
   ]
  },
  {
   "cell_type": "markdown",
   "id": "dd40dacb",
   "metadata": {},
   "source": [
    "### Explode Columns\n",
    "\n",
    "We explode the 'characters', 'names', and 'genders' columns to separate the list elements into individual rows.\n"
   ]
  },
  {
   "cell_type": "code",
   "execution_count": null,
   "id": "86a7bcd2",
   "metadata": {},
   "outputs": [],
   "source": [
    "# Explode the 'characters', 'names', and 'genders' columns\n",
    "df_exploded = credits_df.explode(['characters', 'names', 'genders'])"
   ]
  },
  {
   "cell_type": "markdown",
   "id": "1137355b",
   "metadata": {},
   "source": [
    "### Reset Index\n",
    "We reset the index of the DataFrame to retain the original 'id' value."
   ]
  },
  {
   "cell_type": "code",
   "execution_count": null,
   "id": "769d020d",
   "metadata": {},
   "outputs": [],
   "source": [
    "# Reset the index to retain the original 'id' value\n",
    "df_exploded.reset_index(drop=True, inplace=True)\n",
    "\n",
    "# Show dataframe\n",
    "df_exploded.head()"
   ]
  },
  {
   "cell_type": "markdown",
   "id": "3f4b1a9b",
   "metadata": {},
   "source": [
    "### Save Extracted Data to CSV\n",
    "\n",
    "We select the columns 'id', 'characters', 'names', and 'genders' from the exploded DataFrame `df_exploded` and save them to a new CSV file named `cast_and_characters.csv`."
   ]
  },
  {
   "cell_type": "code",
   "execution_count": null,
   "id": "6a71cb64",
   "metadata": {},
   "outputs": [],
   "source": [
    "# Get columns needed from df and write csv file\n",
    "df_exploded[['id','characters', 'names', 'genders']].to_csv('Data/cast_and_characters.csv', header=True, index=False)"
   ]
  },
  {
   "cell_type": "markdown",
   "id": "5f498295",
   "metadata": {},
   "source": [
    "### Read New Dataset\n",
    "We read the newly created CSV file cast_and_characters.csv into a DataFrame named cast_df."
   ]
  },
  {
   "cell_type": "code",
   "execution_count": null,
   "id": "a9d3a741",
   "metadata": {},
   "outputs": [],
   "source": [
    "# Read new dataset\n",
    "cast_df = pd.read_csv(\"Data/cast_and_characters.csv\")"
   ]
  },
  {
   "cell_type": "markdown",
   "id": "6a5fdb1c",
   "metadata": {},
   "source": [
    "### Convert 'id' Columns to Strings\n",
    "We convert the 'id' columns in both cast_df and movies_df DataFrames to strings for consistency."
   ]
  },
  {
   "cell_type": "code",
   "execution_count": null,
   "id": "e5234fcd",
   "metadata": {},
   "outputs": [],
   "source": [
    "# Convert 'id' columns to strings\n",
    "cast_df['id'] = cast_df['id'].astype(str)\n",
    "movies_df['id'] = movies_df['id'].astype(str)"
   ]
  },
  {
   "cell_type": "markdown",
   "id": "5e0e8e5b",
   "metadata": {},
   "source": [
    "# Data Preprocessing\n",
    "### Filtering English Movies\n",
    "We filter the movies dataframe to consider only English language movies for analysis."
   ]
  },
  {
   "cell_type": "code",
   "execution_count": null,
   "id": "c0a42b3f",
   "metadata": {},
   "outputs": [],
   "source": [
    "#filter movies that are only in English\n",
    "english_movies_df = movies_df[movies_df['original_language'] == 'en']"
   ]
  },
  {
   "cell_type": "markdown",
   "id": "a3c39d96",
   "metadata": {},
   "source": [
    "### Merging Dataframes\n",
    "We merge the cast dataframe with the filtered movies dataframe based on the movie ID."
   ]
  },
  {
   "cell_type": "code",
   "execution_count": null,
   "id": "9ee74e27",
   "metadata": {},
   "outputs": [],
   "source": [
    "# Merge the two DataFrames on the 'id' column\n",
    "merged_df = pd.merge(cast_df, english_movies_df, on='id')\n",
    "\n",
    "# Convert 'names', 'characters' and 'genders' columns to strings\n",
    "merged_df['names'] = merged_df['names'].astype(str)\n",
    "merged_df['characters'] = merged_df['characters'].astype(str)\n",
    "merged_df['genders'] = merged_df['genders'].astype(str)\n",
    "\n",
    "# Define dictionary to map the values\n",
    "# Female = F; Male = M\n",
    "gender_mapping = {'0.0': 'unknown', '1.0': 'F', '2.0': 'M'}\n",
    "\n",
    "# Use map() function to apply the mapping to the 'genres' column\n",
    "merged_df['genders'] = merged_df['genders'].map(gender_mapping)\n",
    "\n",
    "#Show dataframe\n",
    "merged_df.head()"
   ]
  },
  {
   "cell_type": "markdown",
   "id": "15f96623",
   "metadata": {},
   "source": [
    "### Extracting First Names\n",
    "We define a function to extract first names from full names and apply it to create a new column in the dataframe."
   ]
  },
  {
   "cell_type": "code",
   "execution_count": null,
   "id": "59b1d926",
   "metadata": {},
   "outputs": [],
   "source": [
    "# Function to extract first name\n",
    "def extract_first_name(full_name):\n",
    "    # Split the full name into parts\n",
    "    name_parts = full_name.split()\n",
    "    # Check if there is at least one part\n",
    "    if len(name_parts) > 0:\n",
    "        # Return the first part (first name)\n",
    "        return name_parts[0]\n",
    "    else:\n",
    "        # If no first name can be extracted, return None\n",
    "        return None\n",
    "\n",
    "# Apply function to create new column\n",
    "merged_df['actor_first_name'] = merged_df['names'].apply(lambda x: extract_first_name(x))\n",
    "\n",
    "# Display the updated DataFrame\n",
    "merged_df.head()"
   ]
  },
  {
   "cell_type": "markdown",
   "id": "9560f1b1",
   "metadata": {},
   "source": [
    "## Data Cleaning\n",
    "We clean the data to remove irrelevant or redundant character names. We identify exact matches, specific words, and prefixes to be replaced or removed."
   ]
  },
  {
   "cell_type": "code",
   "execution_count": null,
   "id": "6283be47",
   "metadata": {},
   "outputs": [],
   "source": [
    "exact_matches_to_replace = [\n",
    "    \"Himself\", \"Herself\", \"Doctor\", \"Dancer\", \"Narrator\", \"Reporter\", \"Nurse\",\"himself\", \n",
    "    \"(uncredited)\", \"Additional\", \"Policeman\", \"Bartender\", \"Waitress\", \"Mother\", \n",
    "    \"Priest\", \"(voice)\", \"Extra\", \"Detective\", \"Student\", \"Waiter\", \"Soldier\",'uncredited', \n",
    "    \"Guard\", \"Model\", \"Cop\", \"Executioner\", \"Auctioneer\", \"Teacher\", \"Father\", \n",
    "    \"Receptionist\", \"Man (uncredited)\", \"Woman (uncredited)\", \"Minor Role (uncredited)\", \n",
    "    \"Bit Part\", \"Bodyguard\", \"Indian\", \"Pedestrian\", \"Coroner\", \"Hostess\", \"Minor Role\", \n",
    "    \"Secretary\", \"Taxi Driver\", \"Captain\", \"Sergeant\", \"Driver\", \"Self\", \"The Doctor\", \n",
    "    \"Mayor\", \"Deputy\", \"Mom\", \"Cab Driver\", \"Maid\", \"Lawyer\", \"Preacher\", \"Paramedic\", \n",
    "    \"Bus Driver\", \"Journalist\", \"Doorman\", \"Bouncer\", \"Grandma\", \"Bailiff\", \"Janitor\", \n",
    "    \"Cashier\", \"Thug\", \"Technician\", \"Doc\", \"Cook\", \"Kid\", \"Mechanic\", \"Announcer\", \n",
    "    \"Debutante\", \"Truck Driver\", \"Librarian\", \"Cowboy\", \"Orderly\", \"News Anchor\", \n",
    "    \"Gas Station Attendant\", \"Baker\", \"Grandmother\", \"Actor\", \"Grandfather\", \"Principal\", \n",
    "    \"Desk Sergeant\", \"Gambler\", \"Prosecutor\", \"Jesus\", \"Juror\", \"Conductor\", \"Patient\", \n",
    "    \"Barman\", \"Chauffeur\", \"Surgeon\", \"Cheerleader\", \"Landlord\", \"Bit Role\", \"Warden\", \n",
    "    \"Cabbie\", \"Dad\", \"Prisoner\", \"Barfly\", \"Newscaster\", \"Bridesmaid\", \"Vicar\", \"Inspector\", \n",
    "    \"Bride\", \"Musician\", \"E.G.\", \"Undetermined Role\", \"Grandpa\", \"State Trooper\", \"Gangster\", \n",
    "    \"Fireman\", \"Party Goer\", \"Marine\", \"Biker\", \"Governor\", \"Little Boy\", \"Wife\", \"Bellboy\", \n",
    "    \"Townswoman\", \"Bunny\", \"Headmaster\", \"Hostage\", \"Radio Announcer\", \"Postman\", \"Chef\", \n",
    "    \"Gang Member\", \"Board Member\", \"Fighter\", \"Stripper\", \"Shopper\", \"Convict\", \"Pastor\", \n",
    "    \"Monster\", \"Valet\", \"Claude\", \"Engineer\", \"Tiny\", \"Concierge\", \"The President\", \n",
    "    \"Mailman\", \"Tour Guide\", \"Inmate\", \"Train Passenger\", \"Foreman\", \"Assistant\", \"Rabbi\", \n",
    "    \"Newsboy\", \"Trucker\", \"Nana\", \"Passenger\", \"Blonde\", \"Maitre D'\", \"Green\", \n",
    "    \"High School Student\", \"Resident\", \"Miner\", \"Attendant\", \"Trooper\", \"Dealer\", \n",
    "    \"Therapist\", \"Housekeeper\", \"The Boy\", \"-\", \"EMT\", \"Audience Member\", \"Bully\", \n",
    "    \"The Kid\", \"Mother Superior\", \"Train Conductor\", \"Servant\", \"Mall Shopper\", \n",
    "    \"Drummer\", \"Testimonial\", \"Jury Foreman\", \"The Judge\", \"Constable\", \"Showgirl\", \n",
    "    \"President\", \"The Stranger\", \"Wolf\", \"Rocker\", \"Jury Member\", \"Jock\", \"Innkeeper\", \n",
    "    \"Actress\", \"Tramp\", \"The General\", \"Groom\", \"Husband\", \"Cat\", \"Workman\", \"The Mayor\", \n",
    "    \"Daughter\", \"Chaplain\", \"Voice\", \"Limo Driver\", \"Reverend\", \"College Student\", \n",
    "    \"Bystander\", \"Granny\", \"Producer\", \"Lab Technician\", \"Prime Minister\", \n",
    "    \"Medical Examiner\", \"Bear\", \"Seaman\", \"Hairdresser\", \"Graduate Student\", \"O'Brien\", \n",
    "    \"Magistrate\", \"Pharmacist\", \"Mutant\", \"Cameraman\", \"Death Eater\", \"Warrior\", \n",
    "    \"Editor\", \"Sniper\", \"Terrorist\", \"Old Lady\", \"Q\", \"Comedian\", \"Undertaker\", \n",
    "    \"Chairman\", \"Pike\", \"Realtor\", \"Lefty\", \"Mum\", \"Elder\", \"Moose\", \"Steward\",\n",
    "]\n",
    "\n",
    "\n",
    "words_to_replace = ['Additional', 'Extra', 'Narrarator','Narrator','Police', 'Cop', 'Worker','Teacher'\n",
    "                   'Boy','Girl','Friend','Girl','Guard','Guest','Partier','Patron','Pilot','Player',\n",
    "                   'Reporter','Sailor','Worker','Townsman','Courtroom','Photographer','Minor Role'\n",
    "                   'Villager','Himself','Dancer','Neighbor','Villager','Soldier','Nurse','Farmer'\n",
    "                   'Taxi','Townsperson','Woman','Man','Coach','Chief','(uncredited)','Mercenary'\n",
    "                   'Schoolgirl','Clerk','Guy','Local','Salesman','Officer','Agent','Operator','Customer'\n",
    "                   'Kid','King','Queen','Navigator','Set','Emcee','Official','Bank','Airline','Driver'\n",
    "                   'Attendant','Hooker','Monk', 'Junior', 'Bishop', 'Stewardess','Referee','Henchman','Thug'\n",
    "                   'Interviewer','Fisherman','Landlady', 'Psychiatrist','Interviewer','Interviewee','Principal'\n",
    "                   'Grandfather','Tourist','Flight','Prostitute', 'Customer', 'Businessman', 'Director', \n",
    "                    'Scientist', 'Themselves','Singer','Attorney','Waitress',\n",
    "                   'Dance','Team','Pirate','Corporal','(archive footage)', 'Butler', 'Choir', 'Zombie', '(voice)', \n",
    "                    'Priest', 'Messenger', 'Street', 'Dealer', 'Creature', 'Spider', 'Butcher', '#1', '#2', 'M', \n",
    "                    'Carpenter', 'ss', 'Detective', 'Gardener', 'Jailer', 'Blacksmith', 'Teller', 'Witch',\n",
    "                   'herself','Pawnbroker','Ghost','Pimp','Claudius','Background actor','Colonel']\n",
    "\n",
    "prefixes_to_remove = ['Mr.', 'Dr.','Mr', 'Mr', 'Ms', 'Ms.', 'Mrs', 'Mrs.', 'Mme', 'Mme.',\n",
    "                   'Doctor', 'Dr.','Sheriff','Minister','Judge','Nun','Child','Sgt.','Sergeant',\n",
    "                     'Sen.','Senator','Sr.','Senior','General','Col.','Colonel','Young','Lord',\n",
    "                     'Prince','Princess','Farmer','Professor','Prof.','Pvt.','Lt.','Lieutenant',\n",
    "                     'Gen.','General','Maj.','Major','The','Miss','Sir','Uncle','Det.','Deputy','Big',\n",
    "                     'Sergeant','Herself','Inspector','Doctor','Sister','Little','Old','.','Female','First',\n",
    "                     'Reverend','Principal','Private','Commander','Count','Doc','Admiral','Cpl.','Rev.','le',\n",
    "                     'Cmdr.','Dr','Countess','Monsieur','Gen.','Ranger','Sen.','Pope','Professor']\n",
    "\n",
    "# Function to clean names based on criteria\n",
    "def clean_names(name):\n",
    "    # Replace exact matches with NaN\n",
    "    if name in exact_matches_to_replace:\n",
    "        return np.nan\n",
    "    \n",
    "    # Replace names containing a certain word with NaN\n",
    "    for word in words_to_replace:\n",
    "        if word in name:\n",
    "            return np.nan\n",
    "    \n",
    "    # Remove prefixes from names\n",
    "    for prefix in prefixes_to_remove:\n",
    "        if name.startswith(prefix):\n",
    "            return name[len(prefix):].strip()\n",
    "    \n",
    "    return name\n",
    "\n",
    "# Apply cleaning function to the characters column\n",
    "merged_df['cleaned_character_names'] = merged_df['characters'].apply(lambda x: clean_names(x))\n",
    "\n",
    "# Display the cleaned DataFrame\n",
    "print(merged_df['cleaned_character_names'])"
   ]
  },
  {
   "cell_type": "code",
   "execution_count": null,
   "id": "03651d70",
   "metadata": {},
   "outputs": [],
   "source": [
    "# Convert 'names' and 'characters' columns to strings\n",
    "merged_df['cleaned_character_names'] = merged_df['cleaned_character_names'].astype(str)\n",
    "\n",
    "# Apply function to create new column for character first names\n",
    "merged_df['character_first_name'] = merged_df['cleaned_character_names'].apply(lambda x: extract_first_name(x))\n",
    "\n",
    "# Convert the 'release_date' column to datetime\n",
    "merged_df['release_date'] = pd.to_datetime(merged_df['release_date'])"
   ]
  },
  {
   "cell_type": "code",
   "execution_count": null,
   "id": "aef060e3",
   "metadata": {},
   "outputs": [],
   "source": [
    "merged_df.head(3)"
   ]
  },
  {
   "cell_type": "code",
   "execution_count": null,
   "id": "ca33166d",
   "metadata": {},
   "outputs": [],
   "source": [
    "print(merged_df[['title','release_date','actor_first_name','genders','character_first_name']])"
   ]
  },
  {
   "cell_type": "markdown",
   "id": "ceecdd0c",
   "metadata": {},
   "source": [
    "### Save Extracted Data to CSV\n",
    "We select the columns 'title', 'release_date', 'actor_first_name', 'genders', `character_first_name` from the DataFrame 'merged_df' and save them to a new CSV file named `cleaned_cast_and_characters.csv`."
   ]
  },
  {
   "cell_type": "code",
   "execution_count": null,
   "id": "d69f1399",
   "metadata": {},
   "outputs": [],
   "source": [
    "# Get columns needed from df and write csv file\n",
    "merged_df[['title','release_date','actor_first_name','genders','character_first_name']].to_csv('Data/cleaned_cast_and_characters.csv', header=True, index=False)"
   ]
  }
 ],
 "metadata": {
  "kernelspec": {
   "display_name": "Python 3 (ipykernel)",
   "language": "python",
   "name": "python3"
  },
  "language_info": {
   "codemirror_mode": {
    "name": "ipython",
    "version": 3
   },
   "file_extension": ".py",
   "mimetype": "text/x-python",
   "name": "python",
   "nbconvert_exporter": "python",
   "pygments_lexer": "ipython3",
   "version": "3.9.18"
  }
 },
 "nbformat": 4,
 "nbformat_minor": 5
}
