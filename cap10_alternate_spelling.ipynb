{
 "cells": [
  {
   "cell_type": "markdown",
   "id": "d8a33282",
   "metadata": {},
   "source": [
    "# Introduction\n",
    "In this notebook, we are analyzing name data to identify alternate spellings of names and understand their frequency and trends over time. We will use clustering techniques and string similarity.\n"
   ]
  },
  {
   "cell_type": "code",
   "execution_count": 4,
   "id": "3160e7bd",
   "metadata": {},
   "outputs": [],
   "source": [
    "import numpy as np\n",
    "import pandas as pd\n",
    "import os\n",
    "import seaborn as sns\n",
    "import matplotlib.pyplot as plt\n",
    "import mplcursors\n",
    "import plotly.express as px\n",
    "from sklearn.cluster import KMeans\n",
    "from sklearn.preprocessing import StandardScaler\n",
    "from fuzzywuzzy import fuzz  # For string similarity computation\n",
    "\n",
    "import nltk\n",
    "from nltk.tokenize import word_tokenize\n",
    "\n",
    "import warnings\n",
    "warnings.filterwarnings('ignore')"
   ]
  },
  {
   "cell_type": "markdown",
   "id": "027c12bb",
   "metadata": {},
   "source": [
    "# Loading Data\n",
    "We start by loading two datasets:"
   ]
  },
  {
   "cell_type": "code",
   "execution_count": 5,
   "id": "4d9bd4bc",
   "metadata": {},
   "outputs": [],
   "source": [
    "#Load national data from SSA\n",
    "names_df = pd.read_csv(\"Data/national_data.csv\")\n",
    "#Load state data from SSA\n",
    "states_df = pd.read_csv(\"Data/states_data.csv\")"
   ]
  },
  {
   "cell_type": "markdown",
   "id": "17e4bf1d",
   "metadata": {},
   "source": [
    "# Data Preparation"
   ]
  },
  {
   "cell_type": "code",
   "execution_count": 6,
   "id": "09df4852",
   "metadata": {},
   "outputs": [],
   "source": [
    "# Splitting into two DataFrames based on sex\n",
    "male_df = names_df[names_df['sex'] == 'M']\n",
    "female_df = names_df[names_df['sex'] == 'F']\n",
    "\n",
    "# Get unique names in male_df\n",
    "unique_male_df = male_df.drop_duplicates(subset=['name'])\n",
    "\n",
    "# Get unique names in female_df\n",
    "unique_female_df = female_df.drop_duplicates(subset=['name'])"
   ]
  },
  {
   "cell_type": "markdown",
   "id": "1e00a603",
   "metadata": {},
   "source": [
    "# Alternate Spellings Identification"
   ]
  },
  {
   "cell_type": "code",
   "execution_count": 7,
   "id": "2039dc10",
   "metadata": {},
   "outputs": [],
   "source": [
    "# Define function to identify alternate spellings\n",
    "def is_alternate_spelling(name1, name2):\n",
    "    similarity_ratio = fuzz.ratio(name1.lower(), name2.lower())\n",
    "    return similarity_ratio > 80  # Adjust threshold as needed"
   ]
  },
  {
   "cell_type": "markdown",
   "id": "f9bc271b",
   "metadata": {},
   "source": [
    "# Analysis and Results (Male Names)"
   ]
  },
  {
   "cell_type": "code",
   "execution_count": 8,
   "id": "04122ffe",
   "metadata": {},
   "outputs": [
    {
     "name": "stdout",
     "output_type": "stream",
     "text": [
      "Names with alternate spellings:\n",
      "          name  count\n",
      "0        Aadan      5\n",
      "1         Aadi     14\n",
      "2        Aadit     13\n",
      "3       Aadith      5\n",
      "4       Aahaan      6\n",
      "...        ...    ...\n",
      "8378    Zyrion      8\n",
      "8379    Zyshon      8\n",
      "8380  Zyshonne     26\n",
      "8381  Zytaveon      9\n",
      "8382  Zytavion      5\n",
      "\n",
      "[8383 rows x 2 columns]\n",
      "\n",
      "Name with the most alternate spellings:\n",
      "         name  count\n",
      "8003  William   9532\n",
      "1311  Charles   5348\n",
      "2849   George   5126\n",
      "4270   Joseph   2632\n",
      "7553   Thomas   2534\n",
      "3031    Henry   2444\n",
      "7965   Walter   1755\n",
      "613    Arthur   1599\n",
      "242    Albert   1493\n",
      "6948   Samuel   1024\n"
     ]
    }
   ],
   "source": [
    "# Identify alternate spellings using vectorized operations\n",
    "unique_male_df['alternate_spelling'] = False\n",
    "for year in unique_male_df['year'].unique():\n",
    "    same_year_df = unique_male_df[unique_male_df['year'] == year]\n",
    "    for i, row in same_year_df.iterrows():\n",
    "        same_name_indices = same_year_df[same_year_df['name'] != row['name']].index\n",
    "        for idx in same_name_indices:\n",
    "            if is_alternate_spelling(row['name'], same_year_df.loc[idx, 'name']):\n",
    "                unique_male_df.loc[i, 'alternate_spelling'] = True\n",
    "                unique_male_df.loc[idx, 'alternate_spelling'] = True\n",
    "\n",
    "# Group and aggregate data\n",
    "alternate_spellings_count = unique_male_df[unique_male_df['alternate_spelling']].groupby('name')['count'].sum().reset_index()\n",
    "\n",
    "# Calculate increase over time\n",
    "name_counts_over_time = unique_male_df.groupby(['name', 'year'])['count'].sum().reset_index()\n",
    "name_counts_over_time['previous_year_count'] = name_counts_over_time.groupby('name')['count'].shift(fill_value=0)\n",
    "name_counts_over_time['count_increase'] = name_counts_over_time['count'] - name_counts_over_time['previous_year_count']\n",
    "\n",
    "# Find name with most alternate spellings\n",
    "most_alternate_spellings = alternate_spellings_count.nlargest(10, 'count')\n",
    "\n",
    "print(\"Names with alternate spellings:\")\n",
    "print(alternate_spellings_count)\n",
    "\n",
    "print(\"\\nName with the most alternate spellings:\")\n",
    "print(most_alternate_spellings)"
   ]
  },
  {
   "cell_type": "markdown",
   "id": "0269b03c",
   "metadata": {},
   "source": [
    "# Analysis and Results (Female Names)"
   ]
  },
  {
   "cell_type": "code",
   "execution_count": null,
   "id": "d86cd761",
   "metadata": {},
   "outputs": [],
   "source": [
    "# Identify alternate spellings\n",
    "unique_female_df['alternate_spelling'] = False\n",
    "for i, row in unique_female_df.iterrows():\n",
    "    same_name_indices = unique_female_df[(unique_female_df['name'] != row['name']) & (unique_female_df['year'] == row['year'])].index\n",
    "    for idx in same_name_indices:\n",
    "        if is_alternate_spelling(row['name'], unique_female_df.loc[idx, 'name']):\n",
    "            unique_female_df.loc[i, 'alternate_spelling'] = True\n",
    "            unique_female_df.loc[idx, 'alternate_spelling'] = True\n",
    "\n",
    "# Group and aggregate data\n",
    "alternate_spellings_count = unique_female_df[unique_female_df['alternate_spelling']].groupby('name')['count'].sum().reset_index()\n",
    "\n",
    "# Calculate increase over time\n",
    "name_counts_over_time = unique_female_df.groupby(['name', 'year'])['count'].sum().reset_index()\n",
    "name_counts_over_time['previous_year_count'] = name_counts_over_time.groupby('name')['count'].shift(fill_value=0)\n",
    "name_counts_over_time['count_increase'] = name_counts_over_time['count'] - name_counts_over_time['previous_year_count']\n",
    "\n",
    "# Find name with most alternate spellings\n",
    "most_alternate_spellings = alternate_spellings_count.nlargest(10, 'count')\n",
    "\n",
    "print(\"Names with alternate spellings:\")\n",
    "print(alternate_spellings_count)\n",
    "\n",
    "print(\"\\nName with the most alternate spellings:\")\n",
    "print(most_alternate_spellings)\n"
   ]
  },
  {
   "cell_type": "code",
   "execution_count": null,
   "id": "c520e12a",
   "metadata": {},
   "outputs": [],
   "source": []
  },
  {
   "cell_type": "code",
   "execution_count": null,
   "id": "09784e50",
   "metadata": {},
   "outputs": [],
   "source": []
  }
 ],
 "metadata": {
  "kernelspec": {
   "display_name": "Python 3 (ipykernel)",
   "language": "python",
   "name": "python3"
  },
  "language_info": {
   "codemirror_mode": {
    "name": "ipython",
    "version": 3
   },
   "file_extension": ".py",
   "mimetype": "text/x-python",
   "name": "python",
   "nbconvert_exporter": "python",
   "pygments_lexer": "ipython3",
   "version": "3.9.18"
  }
 },
 "nbformat": 4,
 "nbformat_minor": 5
}
