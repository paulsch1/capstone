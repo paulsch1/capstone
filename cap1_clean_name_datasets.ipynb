{
 "cells": [
  {
   "cell_type": "markdown",
   "id": "51a4ccf4",
   "metadata": {},
   "source": [
    "# Introduction"
   ]
  },
  {
   "cell_type": "markdown",
   "id": "ec47a7be",
   "metadata": {},
   "source": [
    "In this notebook, we will go throuhg our datasets and make sure they are ready for anaylsis and modeling. "
   ]
  },
  {
   "cell_type": "code",
   "execution_count": 22,
   "id": "343395bb",
   "metadata": {},
   "outputs": [],
   "source": [
    "# Import libraries\n",
    "import pandas as pd\n",
    "import numpy as np\n",
    "import os\n",
    "import csv\n",
    "import zipfile\n",
    "import glob\n",
    "import matplotlib.pyplot as plt\n",
    "import seaborn as sns\n",
    "import warnings\n",
    "\n",
    "# Ignore FutureWarnings\n",
    "warnings.simplefilter(action='ignore', category=FutureWarning)"
   ]
  },
  {
   "cell_type": "markdown",
   "id": "6bad0bdc",
   "metadata": {},
   "source": [
    "## Create National Data"
   ]
  },
  {
   "cell_type": "code",
   "execution_count": 23,
   "id": "f6eb2706",
   "metadata": {},
   "outputs": [],
   "source": [
    "# Create an empty list to store DataFrames\n",
    "dfs = []\n",
    "\n",
    "# Loop through each file\n",
    "for file in os.listdir(\"Data/Names\"):\n",
    "    if file.endswith(\".txt\"):\n",
    "        # Read the file into a DataFrame\n",
    "\n",
    "        names_columns = [\"name\", \"sex\", \"count\"]\n",
    "        df = pd.read_csv(\n",
    "            os.path.join(\"Data/Names\", file), delimiter=\",\", names=names_columns\n",
    "        )\n",
    "\n",
    "        # Add a 'Year' column\n",
    "        year = file.split(\".\")[0][3:]  # Extract the year from the file name\n",
    "        df[\"year\"] = year\n",
    "\n",
    "        # Append the DataFrame to the list\n",
    "        dfs.append(df)\n",
    "\n",
    "# Concatenate the DataFrames\n",
    "national_df = pd.concat(dfs, ignore_index=True)\n",
    "\n",
    "# Convert 'Year' column to int\n",
    "national_df[\"year\"] = national_df[\"year\"].astype(int)\n",
    "\n",
    "# Clean the name column by removing leading and trailing spaces\n",
    "national_df[\"name\"] = national_df[\"name\"].str.strip()\n"
   ]
  },
  {
   "cell_type": "code",
   "execution_count": 24,
   "id": "f384e6c2",
   "metadata": {},
   "outputs": [],
   "source": [
    "# Save national_df to a CSV file\n",
    "national_df.to_csv('Data/national_data.csv', index=False)"
   ]
  },
  {
   "cell_type": "markdown",
   "id": "616edc9b",
   "metadata": {},
   "source": [
    "## Create State Data"
   ]
  },
  {
   "cell_type": "code",
   "execution_count": 25,
   "id": "8cfee883",
   "metadata": {},
   "outputs": [],
   "source": [
    "# Get file paths for all files matching the pattern 'state_names/STATE.*.TXT'\n",
    "file_paths = glob.glob('Data/state_names/STATE.*.TXT')\n",
    "\n",
    "# Initialize an empty list to store DataFrames\n",
    "dflist = []\n",
    "\n",
    "# Iterate through each file path, read the CSV, and append DataFrame to dflist\n",
    "for file_path in file_paths:\n",
    "    temp_df = pd.read_csv(file_path, names=['state', 'sex', 'year', 'name', 'count'], dtype={'year': int, 'count': int})\n",
    "    dflist.append(temp_df)\n",
    "\n",
    "# Concatenate all DataFrames in dflist into a single DataFrame\n",
    "states_df = pd.concat(dflist, ignore_index=True)\n",
    "\n",
    "# Replace NaN values in 'year' and 'count' columns with 0 and convert to int\n",
    "states_df['year'] = states_df['year'].fillna(0).astype(int)\n",
    "states_df['count'] = states_df['count'].fillna(0).astype(int)\n",
    "\n",
    "# Define the mapping of state abbreviations to regions using the replace method\n",
    "state_to_region = {\n",
    "    'ME': 'Northeast', 'NH': 'Northeast', 'VT': 'Northeast', 'MA': 'Northeast',\n",
    "    'RI': 'Northeast', 'CT': 'Northeast', 'NY': 'Northeast', 'NJ': 'Northeast',\n",
    "    'PA': 'Northeast', 'OH': 'Midwest', 'MI': 'Midwest', 'IN': 'Midwest',\n",
    "    'WI': 'Midwest', 'IL': 'Midwest', 'MN': 'Midwest', 'IA': 'Midwest',\n",
    "    'MO': 'Midwest', 'ND': 'Midwest', 'SD': 'Midwest', 'NE': 'Midwest',\n",
    "    'KS': 'Midwest', 'DE': 'South', 'MD': 'South', 'VA': 'South', 'WV': 'South','DC': 'South',\n",
    "    'KY': 'South', 'NC': 'South', 'SC': 'South', 'TN': 'South', 'GA': 'South',\n",
    "    'FL': 'South', 'AL': 'South', 'MS': 'South', 'AR': 'South', 'LA': 'South',\n",
    "    'TX': 'South', 'OK': 'South', 'MT': 'West', 'ID': 'West', 'WY': 'West',\n",
    "    'CO': 'West', 'NM': 'West', 'AZ': 'West', 'UT': 'West', 'NV': 'West',\n",
    "    'CA': 'West', 'OR': 'West', 'WA': 'West', 'AK': 'West', 'HI': 'West'\n",
    "}\n",
    "\n",
    "# Add a new column 'region' based on the 'state' column using the mapping\n",
    "states_df['region'] = states_df['state'].replace(state_to_region)\n",
    "\n",
    "# Clean the name column by removing leading and trailing spaces\n",
    "states_df[\"name\"] = states_df[\"name\"].str.strip()\n",
    "\n",
    "# Reset the index\n",
    "states_df.reset_index(drop=True, inplace=True)"
   ]
  },
  {
   "cell_type": "code",
   "execution_count": 26,
   "id": "7183d57c",
   "metadata": {},
   "outputs": [],
   "source": [
    "# Save states_df to a CSV file\n",
    "states_df.to_csv('Data/states_data.csv', index=False)"
   ]
  },
  {
   "cell_type": "markdown",
   "id": "52fce7a5",
   "metadata": {},
   "source": [
    "## Check National Data"
   ]
  },
  {
   "cell_type": "code",
   "execution_count": 27,
   "id": "d4a4af3a",
   "metadata": {},
   "outputs": [
    {
     "data": {
      "text/html": [
       "<div>\n",
       "<style scoped>\n",
       "    .dataframe tbody tr th:only-of-type {\n",
       "        vertical-align: middle;\n",
       "    }\n",
       "\n",
       "    .dataframe tbody tr th {\n",
       "        vertical-align: top;\n",
       "    }\n",
       "\n",
       "    .dataframe thead th {\n",
       "        text-align: right;\n",
       "    }\n",
       "</style>\n",
       "<table border=\"1\" class=\"dataframe\">\n",
       "  <thead>\n",
       "    <tr style=\"text-align: right;\">\n",
       "      <th></th>\n",
       "      <th>name</th>\n",
       "      <th>sex</th>\n",
       "      <th>count</th>\n",
       "      <th>year</th>\n",
       "    </tr>\n",
       "  </thead>\n",
       "  <tbody>\n",
       "    <tr>\n",
       "      <th>0</th>\n",
       "      <td>Mary</td>\n",
       "      <td>F</td>\n",
       "      <td>7065</td>\n",
       "      <td>1880</td>\n",
       "    </tr>\n",
       "    <tr>\n",
       "      <th>1</th>\n",
       "      <td>Anna</td>\n",
       "      <td>F</td>\n",
       "      <td>2604</td>\n",
       "      <td>1880</td>\n",
       "    </tr>\n",
       "    <tr>\n",
       "      <th>2</th>\n",
       "      <td>Emma</td>\n",
       "      <td>F</td>\n",
       "      <td>2003</td>\n",
       "      <td>1880</td>\n",
       "    </tr>\n",
       "    <tr>\n",
       "      <th>3</th>\n",
       "      <td>Elizabeth</td>\n",
       "      <td>F</td>\n",
       "      <td>1939</td>\n",
       "      <td>1880</td>\n",
       "    </tr>\n",
       "    <tr>\n",
       "      <th>4</th>\n",
       "      <td>Minnie</td>\n",
       "      <td>F</td>\n",
       "      <td>1746</td>\n",
       "      <td>1880</td>\n",
       "    </tr>\n",
       "  </tbody>\n",
       "</table>\n",
       "</div>"
      ],
      "text/plain": [
       "        name sex  count  year\n",
       "0       Mary   F   7065  1880\n",
       "1       Anna   F   2604  1880\n",
       "2       Emma   F   2003  1880\n",
       "3  Elizabeth   F   1939  1880\n",
       "4     Minnie   F   1746  1880"
      ]
     },
     "execution_count": 27,
     "metadata": {},
     "output_type": "execute_result"
    }
   ],
   "source": [
    "national_df.head()"
   ]
  },
  {
   "cell_type": "code",
   "execution_count": 28,
   "id": "43c640e8",
   "metadata": {},
   "outputs": [
    {
     "name": "stdout",
     "output_type": "stream",
     "text": [
      "['F' 'M']\n"
     ]
    }
   ],
   "source": [
    "#Check sex column for two values\n",
    "print(national_df['sex'].unique())"
   ]
  },
  {
   "cell_type": "code",
   "execution_count": 29,
   "id": "34733c60",
   "metadata": {},
   "outputs": [
    {
     "name": "stdout",
     "output_type": "stream",
     "text": [
      "102449\n"
     ]
    }
   ],
   "source": [
    "#Check how many unique names\n",
    "print(len(national_df['name'].unique()))"
   ]
  },
  {
   "cell_type": "code",
   "execution_count": 30,
   "id": "4feb4053",
   "metadata": {},
   "outputs": [
    {
     "name": "stdout",
     "output_type": "stream",
     "text": [
      "[1880 1881 1882 1883 1884 1885 1886 1887 1888 1889 1890 1891 1892 1893\n",
      " 1894 1895 1896 1897 1898 1899 1900 1901 1902 1903 1904 1905 1906 1907\n",
      " 1908 1909 1910 1911 1912 1913 1914 1915 1916 1917 1918 1919 1920 1921\n",
      " 1922 1923 1924 1925 1926 1927 1928 1929 1930 1931 1932 1933 1934 1935\n",
      " 1936 1937 1938 1939 1940 1941 1942 1943 1944 1945 1946 1947 1948 1949\n",
      " 1950 1951 1952 1953 1954 1955 1956 1957 1958 1959 1960 1961 1962 1963\n",
      " 1964 1965 1966 1967 1968 1969 1970 1971 1972 1973 1974 1975 1976 1977\n",
      " 1978 1979 1980 1981 1982 1983 1984 1985 1986 1987 1988 1989 1990 1991\n",
      " 1992 1993 1994 1995 1996 1997 1998 1999 2000 2001 2002 2003 2004 2005\n",
      " 2006 2007 2008 2009 2010 2011 2012 2013 2014 2015 2016 2017 2018 2019\n",
      " 2020 2021 2022]\n"
     ]
    }
   ],
   "source": [
    "#Check all years in dataset\n",
    "print(np.sort(national_df['year'].unique()))"
   ]
  },
  {
   "cell_type": "markdown",
   "id": "1824d7a3",
   "metadata": {},
   "source": [
    "## Check State Data"
   ]
  },
  {
   "cell_type": "code",
   "execution_count": 31,
   "id": "7c2bfc90",
   "metadata": {},
   "outputs": [
    {
     "data": {
      "text/html": [
       "<div>\n",
       "<style scoped>\n",
       "    .dataframe tbody tr th:only-of-type {\n",
       "        vertical-align: middle;\n",
       "    }\n",
       "\n",
       "    .dataframe tbody tr th {\n",
       "        vertical-align: top;\n",
       "    }\n",
       "\n",
       "    .dataframe thead th {\n",
       "        text-align: right;\n",
       "    }\n",
       "</style>\n",
       "<table border=\"1\" class=\"dataframe\">\n",
       "  <thead>\n",
       "    <tr style=\"text-align: right;\">\n",
       "      <th></th>\n",
       "      <th>state</th>\n",
       "      <th>sex</th>\n",
       "      <th>year</th>\n",
       "      <th>name</th>\n",
       "      <th>count</th>\n",
       "      <th>region</th>\n",
       "    </tr>\n",
       "  </thead>\n",
       "  <tbody>\n",
       "    <tr>\n",
       "      <th>0</th>\n",
       "      <td>AK</td>\n",
       "      <td>F</td>\n",
       "      <td>1910</td>\n",
       "      <td>Mary</td>\n",
       "      <td>14</td>\n",
       "      <td>West</td>\n",
       "    </tr>\n",
       "    <tr>\n",
       "      <th>1</th>\n",
       "      <td>AK</td>\n",
       "      <td>F</td>\n",
       "      <td>1910</td>\n",
       "      <td>Annie</td>\n",
       "      <td>12</td>\n",
       "      <td>West</td>\n",
       "    </tr>\n",
       "    <tr>\n",
       "      <th>2</th>\n",
       "      <td>AK</td>\n",
       "      <td>F</td>\n",
       "      <td>1910</td>\n",
       "      <td>Anna</td>\n",
       "      <td>10</td>\n",
       "      <td>West</td>\n",
       "    </tr>\n",
       "    <tr>\n",
       "      <th>3</th>\n",
       "      <td>AK</td>\n",
       "      <td>F</td>\n",
       "      <td>1910</td>\n",
       "      <td>Margaret</td>\n",
       "      <td>8</td>\n",
       "      <td>West</td>\n",
       "    </tr>\n",
       "    <tr>\n",
       "      <th>4</th>\n",
       "      <td>AK</td>\n",
       "      <td>F</td>\n",
       "      <td>1910</td>\n",
       "      <td>Helen</td>\n",
       "      <td>7</td>\n",
       "      <td>West</td>\n",
       "    </tr>\n",
       "  </tbody>\n",
       "</table>\n",
       "</div>"
      ],
      "text/plain": [
       "  state sex  year      name  count region\n",
       "0    AK   F  1910      Mary     14   West\n",
       "1    AK   F  1910     Annie     12   West\n",
       "2    AK   F  1910      Anna     10   West\n",
       "3    AK   F  1910  Margaret      8   West\n",
       "4    AK   F  1910     Helen      7   West"
      ]
     },
     "execution_count": 31,
     "metadata": {},
     "output_type": "execute_result"
    }
   ],
   "source": [
    "states_df.head()"
   ]
  },
  {
   "cell_type": "code",
   "execution_count": 32,
   "id": "60e522a7",
   "metadata": {},
   "outputs": [
    {
     "name": "stdout",
     "output_type": "stream",
     "text": [
      "32722\n"
     ]
    }
   ],
   "source": [
    "#Check how many names are in dataframe \n",
    "print(len(states_df['name'].unique()))"
   ]
  },
  {
   "cell_type": "code",
   "execution_count": 33,
   "id": "43ba37ab",
   "metadata": {},
   "outputs": [
    {
     "name": "stdout",
     "output_type": "stream",
     "text": [
      "51\n"
     ]
    }
   ],
   "source": [
    "#Check we have correct amount of states (should be 51 to include Washington D.C.)\n",
    "print(len(states_df['state'].unique()))"
   ]
  },
  {
   "cell_type": "code",
   "execution_count": 34,
   "id": "36dd2884",
   "metadata": {},
   "outputs": [
    {
     "name": "stdout",
     "output_type": "stream",
     "text": [
      "['F' 'M']\n"
     ]
    }
   ],
   "source": [
    "#Check sex column for two values\n",
    "print(states_df['sex'].unique())"
   ]
  },
  {
   "cell_type": "code",
   "execution_count": 35,
   "id": "679eec21",
   "metadata": {},
   "outputs": [
    {
     "name": "stdout",
     "output_type": "stream",
     "text": [
      "[1910 1911 1912 1913 1914 1915 1916 1917 1918 1919 1920 1921 1922 1923\n",
      " 1924 1925 1926 1927 1928 1929 1930 1931 1932 1933 1934 1935 1936 1937\n",
      " 1938 1939 1940 1941 1942 1943 1944 1945 1946 1947 1948 1949 1950 1951\n",
      " 1952 1953 1954 1955 1956 1957 1958 1959 1960 1961 1962 1963 1964 1965\n",
      " 1966 1967 1968 1969 1970 1971 1972 1973 1974 1975 1976 1977 1978 1979\n",
      " 1980 1981 1982 1983 1984 1985 1986 1987 1988 1989 1990 1991 1992 1993\n",
      " 1994 1995 1996 1997 1998 1999 2000 2001 2002 2003 2004 2005 2006 2007\n",
      " 2008 2009 2010 2011 2012 2013 2014 2015 2016 2017 2018 2019 2020 2021\n",
      " 2022]\n"
     ]
    }
   ],
   "source": [
    "#Check all years in dataset\n",
    "print(np.sort(states_df['year'].unique()))"
   ]
  },
  {
   "cell_type": "code",
   "execution_count": 36,
   "id": "1d32e091",
   "metadata": {},
   "outputs": [
    {
     "name": "stdout",
     "output_type": "stream",
     "text": [
      "4\n",
      "['West' 'South' 'Northeast' 'Midwest']\n"
     ]
    }
   ],
   "source": [
    "#Check we have correct region numbers and values\n",
    "print(len(states_df['region'].unique()))\n",
    "print(states_df['region'].unique())"
   ]
  },
  {
   "cell_type": "markdown",
   "id": "34fc0336",
   "metadata": {},
   "source": [
    "### Compare National and State Counts"
   ]
  },
  {
   "cell_type": "code",
   "execution_count": 37,
   "id": "a0d6f3e4",
   "metadata": {},
   "outputs": [
    {
     "data": {
      "text/plain": [
       "count    365296191\n",
       "dtype: int64"
      ]
     },
     "execution_count": 37,
     "metadata": {},
     "output_type": "execute_result"
    }
   ],
   "source": [
    "national_df[['count']].sum()"
   ]
  },
  {
   "cell_type": "code",
   "execution_count": 38,
   "id": "1a0b0953",
   "metadata": {},
   "outputs": [
    {
     "data": {
      "text/plain": [
       "count    322578957\n",
       "dtype: int64"
      ]
     },
     "execution_count": 38,
     "metadata": {},
     "output_type": "execute_result"
    }
   ],
   "source": [
    "states_df[['count']].sum()"
   ]
  },
  {
   "cell_type": "code",
   "execution_count": 39,
   "id": "6c4e322e",
   "metadata": {
    "scrolled": false
   },
   "outputs": [
    {
     "name": "stdout",
     "output_type": "stream",
     "text": [
      "state counts / national counts:  count    0.883061\n",
      "dtype: float64\n"
     ]
    }
   ],
   "source": [
    "print('state counts / national counts: ', states_df[['count']].sum() / national_df[['count']].sum())"
   ]
  },
  {
   "cell_type": "code",
   "execution_count": 40,
   "id": "91a7dc11",
   "metadata": {},
   "outputs": [
    {
     "name": "stdout",
     "output_type": "stream",
     "text": [
      "ration of state records to national, for just 2022:  0.8351299385822762\n"
     ]
    }
   ],
   "source": [
    "national2022 = national_df[national_df['year']==2022]['count'].sum()\n",
    "state2022 = states_df[states_df['year']==2022]['count'].sum()\n",
    "print('ration of state records to national, for just 2022: ',state2022 / national2022)"
   ]
  },
  {
   "cell_type": "code",
   "execution_count": 41,
   "id": "d65300df",
   "metadata": {},
   "outputs": [
    {
     "name": "stdout",
     "output_type": "stream",
     "text": [
      "ration of state records to national, for just 1950:  0.9505686469502233\n"
     ]
    }
   ],
   "source": [
    "national1950 = national_df[national_df['year']==1950]['count'].sum()\n",
    "state1950 = states_df[states_df['year']==1950]['count'].sum()\n",
    "print('ration of state records to national, for just 1950: ',state1950 / national1950)"
   ]
  }
 ],
 "metadata": {
  "kernelspec": {
   "display_name": "Python 3 (ipykernel)",
   "language": "python",
   "name": "python3"
  },
  "language_info": {
   "codemirror_mode": {
    "name": "ipython",
    "version": 3
   },
   "file_extension": ".py",
   "mimetype": "text/x-python",
   "name": "python",
   "nbconvert_exporter": "python",
   "pygments_lexer": "ipython3",
   "version": "3.9.18"
  }
 },
 "nbformat": 4,
 "nbformat_minor": 5
}
