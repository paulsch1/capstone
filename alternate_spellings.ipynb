{
 "cells": [
  {
   "cell_type": "markdown",
   "id": "d8a33282",
   "metadata": {},
   "source": [
    "# Introduction\n",
    "In this notebook, we analyze name data to identify alternate spellings of names and understand their frequency and trends over time. We will use the fuzzywuzzy package for string matching. It provides functions to compare strings and determine how similar they are which we will apply to our names.  "
   ]
  },
  {
   "cell_type": "code",
   "execution_count": 1,
   "id": "3160e7bd",
   "metadata": {},
   "outputs": [],
   "source": [
    "#Import necessary libraries\n",
    "import numpy as np\n",
    "import pandas as pd\n",
    "from fuzzywuzzy import fuzz\n",
    "import seaborn as sns\n",
    "import matplotlib.pyplot as plt\n",
    "\n",
    "import warnings\n",
    "warnings.filterwarnings('ignore')"
   ]
  },
  {
   "cell_type": "markdown",
   "id": "027c12bb",
   "metadata": {},
   "source": [
    "# Load Data"
   ]
  },
  {
   "cell_type": "code",
   "execution_count": 2,
   "id": "4d9bd4bc",
   "metadata": {},
   "outputs": [],
   "source": [
    "#Load national data from SSA\n",
    "names_df = pd.read_csv(\"Data/national_data.csv\")\n",
    "#Load state data from SSA\n",
    "states_df = pd.read_csv(\"Data/states_data.csv\")"
   ]
  },
  {
   "cell_type": "markdown",
   "id": "17e4bf1d",
   "metadata": {},
   "source": [
    "# Data Preparation"
   ]
  },
  {
   "cell_type": "code",
   "execution_count": 3,
   "id": "09df4852",
   "metadata": {},
   "outputs": [],
   "source": [
    "# Splitting into two DataFrames based on sex column \n",
    "male_df = names_df[names_df['sex'] == 'M']\n",
    "female_df = names_df[names_df['sex'] == 'F']\n",
    "\n",
    "# Get unique names in male_df\n",
    "unique_male_df = male_df.drop_duplicates(subset=['name'])\n",
    "\n",
    "# Get unique names in female_df\n",
    "unique_female_df = female_df.drop_duplicates(subset=['name'])"
   ]
  },
  {
   "cell_type": "markdown",
   "id": "1e00a603",
   "metadata": {},
   "source": [
    "# Alternate Spellings Identification"
   ]
  },
  {
   "cell_type": "code",
   "execution_count": 4,
   "id": "2039dc10",
   "metadata": {},
   "outputs": [],
   "source": [
    "# Define function to identify alternate spellings\n",
    "def is_alternate_spelling(name1, name2):\n",
    "    similarity_ratio = fuzz.ratio(name1.lower(), name2.lower())\n",
    "    return similarity_ratio > 80  # Adjust threshold as needed"
   ]
  },
  {
   "cell_type": "code",
   "execution_count": 5,
   "id": "a54435f4",
   "metadata": {},
   "outputs": [],
   "source": [
    "# Parts of code were created and optimized for speed and clarity by generative AI\n",
    "# Create Funtion to find alternate spelling\n",
    "def find_most_alternate_spellings(dataframe):\n",
    "    # Identify alternate spellings using vectorized operations\n",
    "    dataframe['alternate_spelling'] = False\n",
    "\n",
    "    # Create a dictionary to store names and their alternate spellings\n",
    "    alternate_spellings = {}\n",
    "\n",
    "    for year in dataframe['year'].unique():\n",
    "        same_year_df = dataframe[dataframe['year'] == year]\n",
    "\n",
    "        # Create a dictionary to store names and their counts for the current year\n",
    "        names_counts = same_year_df.groupby('name')['count'].sum().to_dict()\n",
    "\n",
    "        for name, count in names_counts.items():\n",
    "            # Check if the name already has alternate spellings\n",
    "            if name in alternate_spellings:\n",
    "                for alternate_name in alternate_spellings[name]:\n",
    "                    # If there's an alternate spelling, mark it as such\n",
    "                    if is_alternate_spelling(name, alternate_name):\n",
    "                        dataframe.loc[dataframe['name'] == name, 'alternate_spelling'] = True\n",
    "                        dataframe.loc[dataframe['name'] == alternate_name, 'alternate_spelling'] = True\n",
    "            else:\n",
    "                # Check for alternate spellings with other names in the current year\n",
    "                alternate_names = [alt_name for alt_name in names_counts if alt_name != name and is_alternate_spelling(name, alt_name)]\n",
    "                alternate_spellings[name] = alternate_names\n",
    "                for alternate_name in alternate_names:\n",
    "                    dataframe.loc[dataframe['name'].isin([name, alternate_name]), 'alternate_spelling'] = True\n",
    "\n",
    "    # Group and aggregate data\n",
    "    alternate_spellings_count = dataframe[dataframe['alternate_spelling']].groupby('name')['count'].sum().reset_index()\n",
    "\n",
    "    # Calculate increase over time\n",
    "    name_counts_over_time = dataframe.groupby(['name', 'year'])['count'].sum().reset_index()\n",
    "    name_counts_over_time['previous_year_count'] = name_counts_over_time.groupby('name')['count'].shift(fill_value=0)\n",
    "    name_counts_over_time['count_increase'] = name_counts_over_time['count'] - name_counts_over_time['previous_year_count']\n",
    "\n",
    "    # Find name with most alternate spellings\n",
    "    most_alternate_spellings = alternate_spellings_count.nlargest(10, 'count')\n",
    "\n",
    "    # Find most similar names for each top ten name\n",
    "    most_similar_names = {}\n",
    "    for name in most_alternate_spellings['name']:\n",
    "        similar_names = []\n",
    "        for alt_name in alternate_spellings.get(name, []):\n",
    "            if is_alternate_spelling(name, alt_name):\n",
    "                similar_names.append(alt_name)\n",
    "        most_similar_names[name] = similar_names\n",
    "\n",
    "    return most_alternate_spellings, most_similar_names"
   ]
  },
  {
   "cell_type": "markdown",
   "id": "f9bc271b",
   "metadata": {},
   "source": [
    "# Analysis and Results (Male Names)"
   ]
  },
  {
   "cell_type": "code",
   "execution_count": 6,
   "id": "0037442f",
   "metadata": {},
   "outputs": [
    {
     "name": "stdout",
     "output_type": "stream",
     "text": [
      "\n",
      "Top Ten Names with the most alternate spellings:\n",
      "         name  count\n",
      "8003  William   9532\n",
      "1311  Charles   5348\n",
      "2849   George   5126\n",
      "4270   Joseph   2632\n",
      "7553   Thomas   2534\n",
      "3031    Henry   2444\n",
      "7965   Walter   1755\n",
      "613    Arthur   1599\n",
      "242    Albert   1493\n",
      "6948   Samuel   1024\n",
      "\n",
      "Most similar names for each top ten name:\n",
      "{'William': ['Willam', 'Williams', 'Willian'], 'Charles': ['Charley', 'Charlie'], 'George': ['Gorge'], 'Joseph': ['Joeseph'], 'Thomas': ['Tomas'], 'Henry': ['Henery'], 'Walter': ['Walker'], 'Arthur': ['Arther', 'Aurthur', 'Authur'], 'Albert': ['Adelbert', 'Albertus', 'Elbert'], 'Samuel': ['Samual']}\n"
     ]
    }
   ],
   "source": [
    "most_alternate_spellings, most_similar_names = find_most_alternate_spellings(unique_male_df)\n",
    "print(\"\\nTop Ten Names with the most alternate spellings:\")\n",
    "print(most_alternate_spellings)\n",
    "print(\"\\nMost similar names for each top ten name:\")\n",
    "print(most_similar_names)"
   ]
  },
  {
   "cell_type": "markdown",
   "id": "0269b03c",
   "metadata": {},
   "source": [
    "# Analysis and Results (Female Names)"
   ]
  },
  {
   "cell_type": "code",
   "execution_count": 7,
   "id": "b0f49f12",
   "metadata": {},
   "outputs": [
    {
     "name": "stdout",
     "output_type": "stream",
     "text": [
      "\n",
      "Top Ten Names with the most alternate spellings:\n",
      "            name  count\n",
      "14399       Mary   7065\n",
      "2021        Anna   2604\n",
      "6931        Emma   2003\n",
      "6727   Elizabeth   1939\n",
      "15070     Minnie   1746\n",
      "14081   Margaret   1578\n",
      "7931         Ida   1472\n",
      "3330      Bertha   1320\n",
      "17640      Sarah   1288\n",
      "2119       Annie   1258\n",
      "\n",
      "Most similar names for each top ten name:\n",
      "{'Mary': ['May'], 'Anna': ['Ana', 'Ann', 'Hanna'], 'Emma': ['Lemma'], 'Elizabeth': ['Elisabeth', 'Elizebeth'], 'Minnie': ['Linnie', 'Mintie', 'Vinnie', 'Winnie'], 'Margaret': ['Margarett', 'Margaretta', 'Margarette', 'Margarita', 'Margeret', 'Margret'], 'Ida': ['Lida', 'Vida'], 'Bertha': ['Berta', 'Birtha'], 'Sarah': ['Sara'], 'Annie': ['Anne', 'Fannie', 'Jannie', 'Nannie', 'Sannie', 'Vannie']}\n"
     ]
    }
   ],
   "source": [
    "most_alternate_spellings, most_similar_names = find_most_alternate_spellings((unique_female_df))\n",
    "print(\"\\nTop Ten Names with the most alternate spellings:\")\n",
    "print(most_alternate_spellings)\n",
    "print(\"\\nMost similar names for each top ten name:\")\n",
    "print(most_similar_names)"
   ]
  }
 ],
 "metadata": {
  "kernelspec": {
   "display_name": "Python 3 (ipykernel)",
   "language": "python",
   "name": "python3"
  },
  "language_info": {
   "codemirror_mode": {
    "name": "ipython",
    "version": 3
   },
   "file_extension": ".py",
   "mimetype": "text/x-python",
   "name": "python",
   "nbconvert_exporter": "python",
   "pygments_lexer": "ipython3",
   "version": "3.9.18"
  }
 },
 "nbformat": 4,
 "nbformat_minor": 5
}
