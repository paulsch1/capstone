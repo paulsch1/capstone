{
 "cells": [
  {
   "cell_type": "code",
   "execution_count": null,
   "metadata": {},
   "outputs": [],
   "source": [
    "import numpy as np\n",
    "import pandas as pd\n",
    "from data_loader import load_names_from_web, births_in_year, births_per_year\n",
    "import altair as alt\n",
    "alt.data_transformers.disable_max_rows()"
   ]
  },
  {
   "cell_type": "code",
   "execution_count": null,
   "metadata": {},
   "outputs": [],
   "source": [
    "dfraw = load_names_from_web(category='national', hide_pre_1937=False, use_existing_files=True)\n",
    "\n",
    "first_known_year = dfraw['year'].min()\n",
    "last_known_year = dfraw['year'].max()\n",
    "births_by_year = births_per_year()\n",
    "\n",
    "# dfraw = dfraw[dfraw['name'] == 'Sarah']\n",
    "\n",
    "all_years = dfraw.copy()\n",
    "all_years"
   ]
  },
  {
   "cell_type": "code",
   "execution_count": null,
   "metadata": {},
   "outputs": [],
   "source": [
    "df = all_years.copy()\n",
    "df = df.sort_values(by=['year', 'name'])\n",
    "# df['thisyear_rank'] = df.groupby('M/F')['thisyear_count'].rank(method='first', ascending=False)\n",
    "df['pct'] = df.apply(lambda row: row['count'] / births_by_year.at[row['year'], row['M/F']], axis=1)\n",
    "\n",
    "df"
   ]
  },
  {
   "cell_type": "code",
   "execution_count": null,
   "metadata": {},
   "outputs": [],
   "source": [
    "peaks = df.loc[df.groupby(['state', 'name', 'M/F'])['count'].idxmax()][['state', 'name', 'M/F', 'year', 'count']]\n",
    "peaks = peaks.rename(columns={'year': 'peak_count_year', 'count': 'peak_count'})\n",
    "df = df.merge(peaks, how='left', on=['state', 'name', 'M/F'])\n",
    "\n",
    "df1937 = df[df['year'] >= 1937]\n",
    "peaks = df1937.loc[df1937.groupby(['state', 'name', 'M/F'])['pct'].idxmax()][['state', 'name', 'M/F', 'year', 'pct']]\n",
    "peaks = peaks.rename(columns={'year': 'peak_pct_year', 'pct': 'peak_pct'})\n",
    "df = df.merge(peaks, how='left', on=['state', 'name', 'M/F'])\n",
    "\n",
    "df"
   ]
  },
  {
   "cell_type": "code",
   "execution_count": null,
   "metadata": {},
   "outputs": [],
   "source": [
    "df['pct_of_peak_count'] = df['count'] / df['peak_count']\n",
    "df['pct_of_peak_pct'] = df['pct'] / df['peak_pct']\n",
    "df['years_since_peak_count'] = df['year'] - df['peak_count_year']\n",
    "df['years_since_peak_pct'] = df['year'] - df['peak_pct_year']\n",
    "df"
   ]
  },
  {
   "cell_type": "code",
   "execution_count": null,
   "metadata": {},
   "outputs": [],
   "source": [
    "def select_top_names(data, cutoff=10):\n",
    "    '''\n",
    "    Select names that have had at least one year at or above the cutoff count\n",
    "    '''\n",
    "\n",
    "    names = data[data['count'] >= cutoff][['state', 'name', 'M/F']].drop_duplicates()\n",
    "    # display(names)\n",
    "    data = names.merge(data, how='left', on=['state', 'name', 'M/F'])\n",
    "    # display(data)\n",
    "\n",
    "    return data"
   ]
  },
  {
   "cell_type": "code",
   "execution_count": null,
   "metadata": {},
   "outputs": [],
   "source": [
    "backup = df.copy()"
   ]
  },
  {
   "cell_type": "code",
   "execution_count": null,
   "metadata": {},
   "outputs": [],
   "source": [
    "data = backup.copy()\n",
    "data = select_top_names(data, cutoff=1000)\n",
    "data_F = data[data['M/F'] == 'F']\n",
    "data_M = data[data['M/F'] == 'M']\n",
    "chart_F = alt.Chart(data_F).mark_line().encode(\n",
    "    x='years_since_peak_count',\n",
    "    y='pct_of_peak_count',\n",
    "    tooltip=['name', 'M/F', 'year', 'count', 'peak_count_year', 'peak_count'],\n",
    "    color='name'\n",
    ").properties(\n",
    "    width=450,\n",
    "    height=400\n",
    ")\n",
    "chart_M = alt.Chart(data_M).mark_line().encode(\n",
    "    x='years_since_peak_count',\n",
    "    y='pct_of_peak_count',\n",
    "    tooltip=['name', 'M/F', 'year', 'count', 'peak_count_year', 'peak_count'],\n",
    "    color='name'\n",
    ").properties(\n",
    "    width=450,\n",
    "    height=400\n",
    ")\n",
    "chart_F | chart_M"
   ]
  },
  {
   "cell_type": "code",
   "execution_count": null,
   "metadata": {},
   "outputs": [],
   "source": [
    "data = backup.copy()\n",
    "data = select_top_names(data, cutoff=1000)\n",
    "data = data[data['year'] >= 1937]\n",
    "data_F = data[data['M/F'] == 'F']\n",
    "data_M = data[data['M/F'] == 'M']\n",
    "chart_F = alt.Chart(data_F).mark_line().encode(\n",
    "    x='years_since_peak_pct',\n",
    "    y='pct_of_peak_pct',\n",
    "    tooltip=['name', 'M/F', 'year', 'pct', 'peak_pct_year', 'peak_pct'],\n",
    "    color='name'\n",
    ").properties(\n",
    "    width=450,\n",
    "    height=400\n",
    ")\n",
    "chart_M = alt.Chart(data_M).mark_line().encode(\n",
    "    x='years_since_peak_pct',\n",
    "    y='pct_of_peak_pct',\n",
    "    tooltip=['name', 'M/F', 'year', 'pct', 'peak_pct_year', 'peak_pct'],\n",
    "    color='name'\n",
    ").properties(\n",
    "    width=450,\n",
    "    height=400\n",
    ")\n",
    "chart_F | chart_M"
   ]
  },
  {
   "cell_type": "code",
   "execution_count": null,
   "metadata": {},
   "outputs": [],
   "source": []
  }
 ],
 "metadata": {
  "kernelspec": {
   "display_name": "capstone_venv",
   "language": "python",
   "name": "python3"
  },
  "language_info": {
   "codemirror_mode": {
    "name": "ipython",
    "version": 3
   },
   "file_extension": ".py",
   "mimetype": "text/x-python",
   "name": "python",
   "nbconvert_exporter": "python",
   "pygments_lexer": "ipython3",
   "version": "3.8.5"
  }
 },
 "nbformat": 4,
 "nbformat_minor": 2
}
