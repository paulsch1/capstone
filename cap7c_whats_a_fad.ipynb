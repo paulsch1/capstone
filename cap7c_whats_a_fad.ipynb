{
 "cells": [
  {
   "cell_type": "code",
   "execution_count": 1,
   "metadata": {},
   "outputs": [
    {
     "data": {
      "text/plain": [
       "DataTransformerRegistry.enable('default')"
      ]
     },
     "execution_count": 1,
     "metadata": {},
     "output_type": "execute_result"
    }
   ],
   "source": [
    "#Import necessary libraries\n",
    "import numpy as np\n",
    "import pandas as pd\n",
    "from data_loader import load_names_from_web, births_in_year, births_per_year\n",
    "import altair as alt\n",
    "\n",
    "#Disable max rows in Altair\n",
    "alt.data_transformers.disable_max_rows()"
   ]
  },
  {
   "cell_type": "markdown",
   "metadata": {},
   "source": [
    "### Load Data"
   ]
  },
  {
   "cell_type": "code",
   "execution_count": 2,
   "metadata": {},
   "outputs": [
    {
     "ename": "FileNotFoundError",
     "evalue": "[WinError 3] The system cannot find the path specified: 'national_unzip_path'",
     "output_type": "error",
     "traceback": [
      "\u001b[1;31m---------------------------------------------------------------------------\u001b[0m",
      "\u001b[1;31mFileNotFoundError\u001b[0m                         Traceback (most recent call last)",
      "Cell \u001b[1;32mIn[2], line 1\u001b[0m\n\u001b[1;32m----> 1\u001b[0m dfraw \u001b[38;5;241m=\u001b[39m \u001b[43mload_names_from_web\u001b[49m\u001b[43m(\u001b[49m\u001b[43mcategory\u001b[49m\u001b[38;5;241;43m=\u001b[39;49m\u001b[38;5;124;43m'\u001b[39;49m\u001b[38;5;124;43mnational\u001b[39;49m\u001b[38;5;124;43m'\u001b[39;49m\u001b[43m,\u001b[49m\u001b[43m \u001b[49m\u001b[43mhide_pre_1937\u001b[49m\u001b[38;5;241;43m=\u001b[39;49m\u001b[38;5;28;43;01mFalse\u001b[39;49;00m\u001b[43m,\u001b[49m\u001b[43m \u001b[49m\u001b[43muse_existing_files\u001b[49m\u001b[38;5;241;43m=\u001b[39;49m\u001b[38;5;28;43;01mTrue\u001b[39;49;00m\u001b[43m)\u001b[49m\n\u001b[0;32m      3\u001b[0m \u001b[38;5;66;03m#find first and last known year\u001b[39;00m\n\u001b[0;32m      4\u001b[0m first_known_year \u001b[38;5;241m=\u001b[39m dfraw[\u001b[38;5;124m'\u001b[39m\u001b[38;5;124myear\u001b[39m\u001b[38;5;124m'\u001b[39m]\u001b[38;5;241m.\u001b[39mmin()\n",
      "File \u001b[1;32m~\\Desktop\\Capstone\\capstone\\data_loader.py:43\u001b[0m, in \u001b[0;36mload_names_from_web\u001b[1;34m(category, hide_pre_1937, use_existing_files)\u001b[0m\n\u001b[0;32m     41\u001b[0m     \u001b[38;5;28;01mwith\u001b[39;00m zipfile\u001b[38;5;241m.\u001b[39mZipFile(national_file, \u001b[38;5;124m'\u001b[39m\u001b[38;5;124mr\u001b[39m\u001b[38;5;124m'\u001b[39m) \u001b[38;5;28;01mas\u001b[39;00m zip_ref:\n\u001b[0;32m     42\u001b[0m         zip_ref\u001b[38;5;241m.\u001b[39mextractall(national_unzip_path)\n\u001b[1;32m---> 43\u001b[0m \u001b[38;5;28;01mfor\u001b[39;00m file \u001b[38;5;129;01min\u001b[39;00m \u001b[43mos\u001b[49m\u001b[38;5;241;43m.\u001b[39;49m\u001b[43mlistdir\u001b[49m\u001b[43m(\u001b[49m\u001b[43mnational_unzip_path\u001b[49m\u001b[43m)\u001b[49m:\n\u001b[0;32m     44\u001b[0m     temp_df \u001b[38;5;241m=\u001b[39m pd\u001b[38;5;241m.\u001b[39mread_csv(national_unzip_path \u001b[38;5;241m+\u001b[39m \u001b[38;5;124m'\u001b[39m\u001b[38;5;124m/\u001b[39m\u001b[38;5;124m'\u001b[39m \u001b[38;5;241m+\u001b[39m file, names\u001b[38;5;241m=\u001b[39m[\u001b[38;5;124m'\u001b[39m\u001b[38;5;124mname\u001b[39m\u001b[38;5;124m'\u001b[39m, \u001b[38;5;124m'\u001b[39m\u001b[38;5;124mM/F\u001b[39m\u001b[38;5;124m'\u001b[39m, \u001b[38;5;124m'\u001b[39m\u001b[38;5;124mcount\u001b[39m\u001b[38;5;124m'\u001b[39m])\n\u001b[0;32m     45\u001b[0m     temp_df[\u001b[38;5;124m'\u001b[39m\u001b[38;5;124myear\u001b[39m\u001b[38;5;124m'\u001b[39m] \u001b[38;5;241m=\u001b[39m \u001b[38;5;28mint\u001b[39m(file\u001b[38;5;241m.\u001b[39msplit(\u001b[38;5;124m'\u001b[39m\u001b[38;5;124myob\u001b[39m\u001b[38;5;124m'\u001b[39m)[\u001b[38;5;241m1\u001b[39m]\u001b[38;5;241m.\u001b[39msplit(\u001b[38;5;124m'\u001b[39m\u001b[38;5;124m.txt\u001b[39m\u001b[38;5;124m'\u001b[39m)[\u001b[38;5;241m0\u001b[39m])\n",
      "\u001b[1;31mFileNotFoundError\u001b[0m: [WinError 3] The system cannot find the path specified: 'national_unzip_path'"
     ]
    }
   ],
   "source": [
    "dfraw = load_names_from_web(category='national', hide_pre_1937=False, use_existing_files=True)\n",
    "\n",
    "#find first and last known year\n",
    "first_known_year = dfraw['year'].min()\n",
    "last_known_year = dfraw['year'].max()\n",
    "\n",
    "# function to get births per year\n",
    "births_by_year = births_per_year()\n",
    "\n",
    "# dfraw = dfraw[dfraw['name'] == 'Sarah']\n",
    "\n",
    "#copy data\n",
    "all_years = dfraw.copy()"
   ]
  },
  {
   "cell_type": "code",
   "execution_count": null,
   "metadata": {},
   "outputs": [],
   "source": [
    "# create empyt dataframe to store data\n",
    "data = pd.DataFrame()\n",
    "\n",
    "for year in range(first_known_year, last_known_year+1):\n",
    "\n",
    "    print(year) #display current year\n",
    "    \n",
    "    #copy data for current year\n",
    "    df = all_years.copy()\n",
    "    # calculate cum sum and median age\n",
    "    df = df[df['year'] <= year]\n",
    "    df = df.sort_values(by='year')\n",
    "    df['cumsum'] = df.groupby(['name', 'M/F'])['count'].cumsum()\n",
    "    df['sum'] = df.groupby(['name', 'M/F'])['count'].transform('sum')\n",
    "    medians = df[df['cumsum'] >= df['sum']/2]\n",
    "    medians = medians.drop_duplicates(subset=['name', 'M/F'], keep='first')\n",
    "    medians['age'] = year - medians['year']\n",
    "    # calculate coutn for current year; merge with median data\n",
    "    thisyear = df[df['year'] == year][['name', 'M/F', 'count']].rename(columns={'count': 'thisyear_count'})\n",
    "    df = medians.merge(thisyear, how='left', on=['name', 'M/F'])\n",
    "    df['thisyear_count'] = df['thisyear_count'].fillna(0)\n",
    "    df['thisyear_count_adj'] = df['thisyear_count'].replace(0, 2)\n",
    "    df['thisyear_rank'] = df.groupby('M/F')['thisyear_count'].rank(method='first', ascending=False)\n",
    "    df['thisyear_pct'] = df.apply(lambda row: row['thisyear_count'] / births_by_year.at[year, row['M/F']], axis=1)\n",
    "    df['thisyear_pct_adj'] = df.apply(lambda row: row['thisyear_count_adj'] / births_by_year.at[year, row['M/F']], axis=1)\n",
    "    df = df[['state', 'name', 'M/F', 'sum', 'age', 'thisyear_count', 'thisyear_rank', 'thisyear_pct', 'thisyear_count_adj', 'thisyear_pct_adj']]\n",
    "    df['year'] = year\n",
    "    # concatenate processed data\n",
    "    data = pd.concat([data, df])\n",
    "\n",
    "# display dataframe \n",
    "data"
   ]
  },
  {
   "cell_type": "code",
   "execution_count": null,
   "metadata": {},
   "outputs": [],
   "source": [
    "#store backup data\n",
    "backup = data.copy()"
   ]
  },
  {
   "cell_type": "code",
   "execution_count": null,
   "metadata": {},
   "outputs": [],
   "source": [
    "#filter data\n",
    "data = backup.copy()\n",
    "data = data[data['thisyear_rank'] <= 100]\n",
    "data = data[data['year'] % 5 == 0]\n",
    "data_F = data[data['M/F'] == 'F']\n",
    "data_M = data[data['M/F'] == 'M']\n",
    "\n",
    "#Create Altair charts for male/female data\n",
    "chart_F = alt.Chart(data_F).mark_line().encode(\n",
    "    x='thisyear_rank',\n",
    "    y='thisyear_pct',\n",
    "    tooltip=['name', 'M/F', 'year', 'age', 'thisyear_count', 'sum'],\n",
    "    color='year'\n",
    ").properties(\n",
    "    width=450,\n",
    "    height=400\n",
    ")\n",
    "chart_M = alt.Chart(data_M).mark_line().encode(\n",
    "    x='thisyear_rank',\n",
    "    y='thisyear_pct',\n",
    "    tooltip=['name', 'M/F', 'year', 'age', 'thisyear_count', 'sum'],\n",
    "    color=alt.Color('year', scale=alt.Scale(scheme='greys'))\n",
    ").properties(\n",
    "    width=450,\n",
    "    height=400\n",
    ")\n",
    "\n",
    "#display charts\n",
    "chart_F | chart_M\n",
    "\n",
    "# ranks need to be cleaned up by gender"
   ]
  },
  {
   "cell_type": "code",
   "execution_count": null,
   "metadata": {},
   "outputs": [],
   "source": [
    "data = backup.copy()\n",
    "data_F = data[data['M/F'] == 'F']\n",
    "data_M = data[data['M/F'] == 'M']\n",
    "\n",
    "#function to calcualte top shares\n",
    "def top_shares(df):\n",
    "    results = []\n",
    "    groups = df.groupby('year')\n",
    "    for year, group in groups:\n",
    "        group = group.sort_values(by='thisyear_rank')\n",
    "        for x in [1, 10, 100, 1000]:\n",
    "            top_x = group.head(x)\n",
    "            total_pct = top_x['thisyear_pct'].sum()\n",
    "            results.append({'year': year, 'top_x': x, 'total_pct': total_pct})\n",
    "    return pd.DataFrame(results)\n",
    "\n",
    "#calculate top shared for male/female\n",
    "data_F = top_shares(data_F)\n",
    "data_M = top_shares(data_M)\n",
    "\n",
    "#create Altair charts for top shares\n",
    "chart_F = alt.Chart(data_F).mark_line().encode(\n",
    "    x='year',\n",
    "    y='total_pct',\n",
    "    tooltip=['year', 'top_x', 'total_pct'],\n",
    "    color=alt.Color('top_x', scale=alt.Scale(scheme='greys', reverse=True, type='log'))\n",
    ").properties(\n",
    "    width=450,\n",
    "    height=400\n",
    ")\n",
    "chart_M = alt.Chart(data_M).mark_line().encode(\n",
    "    x='year',\n",
    "    y='total_pct',\n",
    "    tooltip=['year', 'top_x', 'total_pct'],\n",
    "    color='top_x'\n",
    ").properties(\n",
    "    width=450,\n",
    "    height=400\n",
    ")\n",
    "\n",
    "#display charts\n",
    "chart_F | chart_M"
   ]
  },
  {
   "cell_type": "code",
   "execution_count": null,
   "metadata": {},
   "outputs": [],
   "source": [
    "## Calculate top shares between male/female\n",
    "data_diff = data_F.merge(data_M, how='inner', on=['year', 'top_x'], suffixes=('_f', '_m'))\n",
    "data_diff['diff'] = data_diff['total_pct_f'] - data_diff['total_pct_m']\n",
    "\n",
    "chart_diff = alt.Chart(data_diff).mark_line().encode(\n",
    "    x='year',\n",
    "    y='diff',\n",
    "    tooltip=['year', 'top_x', 'diff'],\n",
    "    color=alt.Color('top_x', scale=alt.Scale(scheme='greys', reverse=True, type='log'))\n",
    ").properties(\n",
    "    width=450,\n",
    "    height=400\n",
    ")\n",
    "\n",
    "#display charts\n",
    "chart_diff"
   ]
  },
  {
   "cell_type": "code",
   "execution_count": null,
   "metadata": {},
   "outputs": [],
   "source": [
    "#Calculating Shannon entropy for male/female\n",
    "data = backup.copy()\n",
    "data = data[data['thisyear_rank'] <= 100000]\n",
    "data_F = data[data['M/F'] == 'F']\n",
    "data_M = data[data['M/F'] == 'M']\n",
    "\n",
    "#function to calculate Shannon entropy\n",
    "def shannon_entropy(pcts):\n",
    "    pcts = pcts[pcts > 0]\n",
    "    return -np.sum(pcts * np.log2(pcts))\n",
    "\n",
    "entropy_F = data_F.groupby('year')['thisyear_pct'].apply(shannon_entropy).reset_index().rename(columns={'thisyear_pct': 'entropy'})\n",
    "entropy_M = data_M.groupby('year')['thisyear_pct'].apply(shannon_entropy).reset_index().rename(columns={'thisyear_pct': 'entropy'})\n",
    "entropy_diff = pd.merge(entropy_F, entropy_M, how='inner', on='year', suffixes=('_f', '_m'))\n",
    "entropy_diff['diff'] = entropy_diff['entropy_m'] - entropy_diff['entropy_f']\n",
    "\n",
    "chart_F = alt.Chart(entropy_F).mark_line().encode(\n",
    "    x='year',\n",
    "    y='entropy',\n",
    "    tooltip=['year', 'entropy'],\n",
    "    color=alt.value('red')\n",
    ").properties(\n",
    "    width=450,\n",
    "    height=400\n",
    ")\n",
    "chart_M = alt.Chart(entropy_M).mark_line().encode(\n",
    "    x='year',\n",
    "    y='entropy',\n",
    "    tooltip=['year', 'entropy'],\n",
    "    color=alt.value('blue')\n",
    ").properties(\n",
    "    width=450,\n",
    "    height=400\n",
    ")\n",
    "\n",
    "#display charts\n",
    "(chart_F | chart_M).resolve_scale(y='shared')"
   ]
  },
  {
   "cell_type": "code",
   "execution_count": null,
   "metadata": {},
   "outputs": [],
   "source": [
    "chart_M = alt.Chart(entropy_diff).mark_line().encode(\n",
    "    x='year',\n",
    "    y='diff',\n",
    "    tooltip=['year', 'diff'],\n",
    "    color=alt.value('grey')\n",
    ").properties(\n",
    "    width=450,\n",
    "    height=400\n",
    ")\n",
    "\n",
    "#display chart\n",
    "chart_M"
   ]
  },
  {
   "cell_type": "code",
   "execution_count": null,
   "metadata": {},
   "outputs": [],
   "source": []
  }
 ],
 "metadata": {
  "kernelspec": {
   "display_name": "Python 3 (ipykernel)",
   "language": "python",
   "name": "python3"
  },
  "language_info": {
   "codemirror_mode": {
    "name": "ipython",
    "version": 3
   },
   "file_extension": ".py",
   "mimetype": "text/x-python",
   "name": "python",
   "nbconvert_exporter": "python",
   "pygments_lexer": "ipython3",
   "version": "3.9.18"
  }
 },
 "nbformat": 4,
 "nbformat_minor": 2
}
